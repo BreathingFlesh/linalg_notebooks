{
 "cells": [
  {
   "cell_type": "code",
   "execution_count": 75,
   "metadata": {},
   "outputs": [],
   "source": [
    "import numpy as np\n",
    "import numpy.linalg as la\n",
    "from scipy.linalg import lu\n",
    "import fractions"
   ]
  },
  {
   "cell_type": "code",
   "execution_count": 76,
   "metadata": {},
   "outputs": [],
   "source": [
    "# Matrix definieren\n",
    "A = np.array([\n",
    "    [2, 2],\n",
    "    [2, 2]\n",
    "])"
   ]
  },
  {
   "cell_type": "code",
   "execution_count": 77,
   "metadata": {},
   "outputs": [
    {
     "name": "stdout",
     "output_type": "stream",
     "text": [
      "Charakteristisches Polynom:\n",
      "1.0*lambda^2 + -4.0*lambda + 0.0\n",
      "p: -4.0, q: 0.0\n",
      "\n",
      "Lambda 1: 4.0, Gerundet: 4.0\n",
      "Lambda 2: 4.440892098500626e-16, Gerundet: 0.0\n",
      "\n",
      "Vektor 1:\n",
      "0.7071067811865476, Gerundet: 0.7071\n",
      "-0.7071067811865474, Gerundet: -0.7071\n",
      "Vektor 2:\n",
      "0.7071067811865474, Gerundet: 0.7071\n",
      "0.7071067811865476, Gerundet: 0.7071\n"
     ]
    }
   ],
   "source": [
    "# Charakteristisches Polynom\n",
    "p = np.poly(A)\n",
    "print('Charakteristisches Polynom:')\n",
    "print(f'{p[0]}*lambda^2 + {p[1]}*lambda + {round(p[2], 4)}')\n",
    "print(f'p: {p[1]}, q: {round(p[2], 4)}\\n')\n",
    "\n",
    "# Eigenwerte\n",
    "eigen = la.eig(A)\n",
    "eigenwerte = eigen[0]\n",
    "for i, eig in enumerate(eigenwerte):\n",
    "    print(f'Lambda {i+1}: {eig}, Gerundet: {np.round(eig, 4)}')\n",
    "\n",
    "# Eigenvektoren\n",
    "print(f'')\n",
    "eigenvektoren = eigen[1]\n",
    "for i, eig in enumerate(eigenvektoren):\n",
    "    print(f'Vektor {i+1}:')\n",
    "    for v in eig:\n",
    "        print(f'{v}, Gerundet: {round(v, 4)}')"
   ]
  }
 ],
 "metadata": {
  "kernelspec": {
   "display_name": "Python 3.7.9 ('.venv': venv)",
   "language": "python",
   "name": "python3"
  },
  "language_info": {
   "codemirror_mode": {
    "name": "ipython",
    "version": 3
   },
   "file_extension": ".py",
   "mimetype": "text/x-python",
   "name": "python",
   "nbconvert_exporter": "python",
   "pygments_lexer": "ipython3",
   "version": "3.7.9"
  },
  "orig_nbformat": 4,
  "vscode": {
   "interpreter": {
    "hash": "56aea455e691ac98f863ca58aca37ee31c5c13a4edf93477d1a9363b4823949b"
   }
  }
 },
 "nbformat": 4,
 "nbformat_minor": 2
}
