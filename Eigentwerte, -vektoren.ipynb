{
 "cells": [
  {
   "cell_type": "code",
   "execution_count": 113,
   "metadata": {},
   "outputs": [],
   "source": [
    "import numpy as np\n",
    "import numpy.linalg as la\n",
    "\n",
    "# Uncomment for decimals\n",
    "np.set_printoptions(formatter={})"
   ]
  },
  {
   "cell_type": "code",
   "execution_count": 114,
   "metadata": {},
   "outputs": [],
   "source": [
    "# Matrix definieren\n",
    "A = np.array([\n",
    "    [3, 2, 2],\n",
    "    [3, 3, 2],\n",
    "    [3, 3, 2]\n",
    "])"
   ]
  },
  {
   "cell_type": "code",
   "execution_count": 115,
   "metadata": {},
   "outputs": [
    {
     "name": "stdout",
     "output_type": "stream",
     "text": [
      "Charakteristisches Polynom:\n",
      "1.0*lambda^2 + -8.0*lambda + 3.0\n",
      "p: -8.0, q: 3.0\n",
      "\n",
      "Lambda 1: 0.3944487245360113, Gerundet: 0.3944\n",
      "Lambda 2: 7.60555127546399, Gerundet: 7.6056\n",
      "Lambda 3: 0.0, Gerundet: 0.0\n",
      "\n",
      "Vektor 1:\n",
      "-0.7354905461905702, Gerundet: -0.7355\n",
      "0.523324441698562, Gerundet: 0.5233\n",
      "-0.5547001962252287, Gerundet: -0.5547\n",
      "Vektor 2:\n",
      "0.4790895826796367, Gerundet: 0.4791\n",
      "0.6025493874865728, Gerundet: 0.6025\n",
      "-5.225583569541859e-16, Gerundet: -0.0\n",
      "Vektor 3:\n",
      "0.4790895826796367, Gerundet: 0.4791\n",
      "0.6025493874865728, Gerundet: 0.6025\n",
      "0.8320502943378438, Gerundet: 0.8321\n"
     ]
    }
   ],
   "source": [
    "# Charakteristisches Polynom\n",
    "p = np.poly(A)\n",
    "print('Charakteristisches Polynom:')\n",
    "print(f'{p[0]}*lambda^2 + {p[1]}*lambda + {round(p[2], 4)}')\n",
    "print(f'p: {p[1]}, q: {round(p[2], 4)}\\n')\n",
    "\n",
    "# Eigenwerte\n",
    "eigen = la.eig(A)\n",
    "eigenwerte = eigen[0]\n",
    "for i, eig in enumerate(eigenwerte):\n",
    "    print(f'Lambda {i+1}: {eig}, Gerundet: {np.round(eig, 4)}')\n",
    "\n",
    "# Eigenvektoren\n",
    "print(f'')\n",
    "eigenvektoren = eigen[1]\n",
    "for i, eig in enumerate(eigenvektoren):\n",
    "    print(f'Vektor {i+1}:')\n",
    "    for v in eig:\n",
    "        print(f'{v}, Gerundet: {round(v, 4)}')"
   ]
  },
  {
   "cell_type": "code",
   "execution_count": 116,
   "metadata": {},
   "outputs": [
    {
     "name": "stdout",
     "output_type": "stream",
     "text": [
      "Matrix mit Eigenvektoren V:\n",
      "[[-0.7355  0.5233 -0.5547]\n",
      " [ 0.4791  0.6025 -0.    ]\n",
      " [ 0.4791  0.6025  0.8321]]\n",
      "\n",
      "Matrix mit Eigenwerten Lambda:\n",
      "[[0.39444872 0.         0.        ]\n",
      " [0.         7.60555128 0.        ]\n",
      " [0.         0.         0.        ]]\n",
      "\n",
      "Matrix mit Eigenvektoren V.T:\n",
      "[[-0.7355  0.4791  0.4791]\n",
      " [ 0.5233  0.6025  0.6025]\n",
      " [-0.5547 -0.      0.8321]]\n"
     ]
    }
   ],
   "source": [
    "print('Matrix mit Eigenvektoren V:')\n",
    "print(np.around(eigenvektoren, 4))\n",
    "print('\\nMatrix mit Eigenwerten Lambda:')\n",
    "print(np.diag(eigenwerte))\n",
    "print('\\nMatrix mit Eigenvektoren V.T:')\n",
    "print(np.around(eigenvektoren, 4).T)\n",
    "print('\\nV*Lambda*V')"
   ]
  }
 ],
 "metadata": {
  "kernelspec": {
   "display_name": "Python 3.7.9 ('.venv': venv)",
   "language": "python",
   "name": "python3"
  },
  "language_info": {
   "codemirror_mode": {
    "name": "ipython",
    "version": 3
   },
   "file_extension": ".py",
   "mimetype": "text/x-python",
   "name": "python",
   "nbconvert_exporter": "python",
   "pygments_lexer": "ipython3",
   "version": "3.7.9"
  },
  "orig_nbformat": 4,
  "vscode": {
   "interpreter": {
    "hash": "56aea455e691ac98f863ca58aca37ee31c5c13a4edf93477d1a9363b4823949b"
   }
  }
 },
 "nbformat": 4,
 "nbformat_minor": 2
}
