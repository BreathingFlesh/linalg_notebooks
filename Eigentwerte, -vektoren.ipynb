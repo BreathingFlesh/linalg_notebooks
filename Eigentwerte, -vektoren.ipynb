{
 "cells": [
  {
   "cell_type": "code",
   "execution_count": 125,
   "metadata": {},
   "outputs": [],
   "source": [
    "import numpy as np\n",
    "import numpy.linalg as la\n",
    "\n",
    "# Uncomment for decimals\n",
    "np.set_printoptions(formatter={})"
   ]
  },
  {
   "cell_type": "code",
   "execution_count": 126,
   "metadata": {},
   "outputs": [],
   "source": [
    "# Matrix definieren\n",
    "A = np.array([\n",
    " [4.33333333, 5.33333333],\n",
    " [5.33333333, 7.        ]\n",
    "])"
   ]
  },
  {
   "cell_type": "code",
   "execution_count": 127,
   "metadata": {},
   "outputs": [
    {
     "name": "stdout",
     "output_type": "stream",
     "text": [
      "Charakteristisches Polynom:\n",
      "1.0*lambda^2 + -11.333333329999999*lambda + 1.8889\n",
      "p: -11.333333329999999, q: 1.8889\n",
      "\n",
      "Lambda 1: 0.16919250033936795, Gerundet: 0.1692\n",
      "Lambda 2: 11.164140829660631, Gerundet: 11.1641\n",
      "\n",
      "Vektor 1:\n",
      "-0.7882054381518618, Gerundet: -0.7882\n",
      "-0.6154122092287668, Gerundet: -0.6154\n",
      "Vektor 2:\n",
      "0.6154122092287668, Gerundet: 0.6154\n",
      "-0.7882054381518618, Gerundet: -0.7882\n"
     ]
    }
   ],
   "source": [
    "# Charakteristisches Polynom\n",
    "p = np.poly(A)\n",
    "print('Charakteristisches Polynom:')\n",
    "print(f'{p[0]}*lambda^2 + {p[1]}*lambda + {round(p[2], 4)}')\n",
    "print(f'p: {p[1]}, q: {round(p[2], 4)}\\n')\n",
    "\n",
    "# Eigenwerte\n",
    "eigen = la.eig(A)\n",
    "eigenwerte = eigen[0]\n",
    "for i, eig in enumerate(eigenwerte):\n",
    "    print(f'Lambda {i+1}: {eig}, Gerundet: {np.round(eig, 4)}')\n",
    "\n",
    "# Eigenvektoren\n",
    "print(f'')\n",
    "eigenvektoren = eigen[1]\n",
    "for i, eig in enumerate(eigenvektoren):\n",
    "    print(f'Vektor {i+1}:')\n",
    "    for v in eig:\n",
    "        print(f'{v}, Gerundet: {round(v, 4)}')"
   ]
  },
  {
   "cell_type": "code",
   "execution_count": 128,
   "metadata": {},
   "outputs": [
    {
     "name": "stdout",
     "output_type": "stream",
     "text": [
      "Matrix mit Eigenvektoren V:\n",
      "[[-0.7882 -0.6154]\n",
      " [ 0.6154 -0.7882]]\n",
      "\n",
      "Matrix mit Eigenwerten Lambda:\n",
      "[[ 0.1692  0.    ]\n",
      " [ 0.     11.1641]]\n",
      "\n",
      "Matrix mit Eigenvektoren V.T:\n",
      "[[-0.7882  0.6154]\n",
      " [-0.6154 -0.7882]]\n",
      "\n",
      "V*Lambda*V\n"
     ]
    }
   ],
   "source": [
    "print('Matrix mit Eigenvektoren V:')\n",
    "print(np.around(eigenvektoren, 4))\n",
    "print('\\nMatrix mit Eigenwerten Lambda:')\n",
    "print(np.around(np.diag(eigenwerte), 4))\n",
    "print('\\nMatrix mit Eigenvektoren V.T:')\n",
    "print(np.around(eigenvektoren, 4).T)\n",
    "print('\\nV*Lambda*V')"
   ]
  }
 ],
 "metadata": {
  "kernelspec": {
   "display_name": "Python 3.7.9 ('.venv': venv)",
   "language": "python",
   "name": "python3"
  },
  "language_info": {
   "codemirror_mode": {
    "name": "ipython",
    "version": 3
   },
   "file_extension": ".py",
   "mimetype": "text/x-python",
   "name": "python",
   "nbconvert_exporter": "python",
   "pygments_lexer": "ipython3",
   "version": "3.7.9"
  },
  "orig_nbformat": 4,
  "vscode": {
   "interpreter": {
    "hash": "56aea455e691ac98f863ca58aca37ee31c5c13a4edf93477d1a9363b4823949b"
   }
  }
 },
 "nbformat": 4,
 "nbformat_minor": 2
}
