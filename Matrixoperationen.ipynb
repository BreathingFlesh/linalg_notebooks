{
 "cells": [
  {
   "cell_type": "code",
   "execution_count": 12,
   "metadata": {},
   "outputs": [],
   "source": [
    "import numpy as np\n",
    "import numpy.linalg as la\n",
    "from scipy.linalg import lu"
   ]
  },
  {
   "cell_type": "code",
   "execution_count": 13,
   "metadata": {},
   "outputs": [
    {
     "name": "stdout",
     "output_type": "stream",
     "text": [
      "A = \n",
      " [[-2  3 -4]\n",
      " [-1 -6 -3]\n",
      " [ 2  6  1]]\n",
      "B = \n",
      " [[1 3 5]\n",
      " [5 2 9]\n",
      " [2 3 4]]\n"
     ]
    }
   ],
   "source": [
    "# Matrizen definieren, Inverse, Eigenwerte usw. wird nur von Matrix A berechnet\n",
    "A = np.array([\n",
    "    [-2, 3, -4],\n",
    "    [-1, -6, -3],\n",
    "    [2, 6, 1]\n",
    "])\n",
    "B = np.array([\n",
    "    [1, 3, 5],\n",
    "    [5, 2, 9],\n",
    "    [2, 3, 4]\n",
    "])\n",
    "a = np.array(\n",
    "    [1, 2, 3]\n",
    ")\n",
    "\n",
    "print(f'A = \\n {A}')\n",
    "print(f'B = \\n {B}')"
   ]
  },
  {
   "cell_type": "markdown",
   "metadata": {},
   "source": [
    "### Determinante"
   ]
  },
  {
   "cell_type": "code",
   "execution_count": 14,
   "metadata": {},
   "outputs": [
    {
     "name": "stdout",
     "output_type": "stream",
     "text": [
      "-63.00000000000005, Gerundet: -63.0\n"
     ]
    }
   ],
   "source": [
    "det = la.det(A)\n",
    "print(f'{det}, Gerundet: {round(det, 2)}')"
   ]
  },
  {
   "cell_type": "markdown",
   "metadata": {},
   "source": [
    "### Inverse"
   ]
  },
  {
   "cell_type": "code",
   "execution_count": 15,
   "metadata": {},
   "outputs": [
    {
     "name": "stdout",
     "output_type": "stream",
     "text": [
      "Inverse:\n",
      "[[-0.19047619  0.42857143  0.52380952]\n",
      " [ 0.07936508 -0.0952381   0.03174603]\n",
      " [-0.0952381  -0.28571429 -0.23809524]]\n",
      "Gerundet:\n",
      "[[-0.19  0.43  0.52]\n",
      " [ 0.08 -0.1   0.03]\n",
      " [-0.1  -0.29 -0.24]]\n"
     ]
    }
   ],
   "source": [
    "inv = la.inv(A)\n",
    "print(f'Inverse:\\n{inv}')\n",
    "print(f'Gerundet:\\n{np.around(inv, 2)}')"
   ]
  },
  {
   "cell_type": "markdown",
   "metadata": {},
   "source": [
    "### Transformation"
   ]
  },
  {
   "cell_type": "code",
   "execution_count": 16,
   "metadata": {},
   "outputs": [
    {
     "data": {
      "text/plain": [
       "array([[-2, -1,  2],\n",
       "       [ 3, -6,  6],\n",
       "       [-4, -3,  1]])"
      ]
     },
     "execution_count": 16,
     "metadata": {},
     "output_type": "execute_result"
    }
   ],
   "source": [
    "A.T"
   ]
  },
  {
   "cell_type": "markdown",
   "metadata": {},
   "source": [
    "### Rang"
   ]
  },
  {
   "cell_type": "code",
   "execution_count": 23,
   "metadata": {},
   "outputs": [
    {
     "data": {
      "text/plain": [
       "3"
      ]
     },
     "execution_count": 23,
     "metadata": {},
     "output_type": "execute_result"
    }
   ],
   "source": [
    "la.matrix_rank(A)"
   ]
  },
  {
   "cell_type": "markdown",
   "metadata": {},
   "source": [
    "### Matrixmultiplikation"
   ]
  },
  {
   "cell_type": "code",
   "execution_count": 17,
   "metadata": {},
   "outputs": [
    {
     "data": {
      "text/plain": [
       "array([[  5, -12,   1],\n",
       "       [-37, -24, -71],\n",
       "       [ 34,  21,  68]])"
      ]
     },
     "execution_count": 17,
     "metadata": {},
     "output_type": "execute_result"
    }
   ],
   "source": [
    "np.matmul(A, B)"
   ]
  },
  {
   "cell_type": "markdown",
   "metadata": {},
   "source": [
    "### Matrix mit Vektor multiplizieren"
   ]
  },
  {
   "cell_type": "code",
   "execution_count": 18,
   "metadata": {},
   "outputs": [
    {
     "data": {
      "text/plain": [
       "array([ -8, -22,  17])"
      ]
     },
     "execution_count": 18,
     "metadata": {},
     "output_type": "execute_result"
    }
   ],
   "source": [
    "np.matmul(A, a)"
   ]
  },
  {
   "cell_type": "markdown",
   "metadata": {},
   "source": [
    "### Eigenwerte"
   ]
  },
  {
   "cell_type": "code",
   "execution_count": 19,
   "metadata": {},
   "outputs": [
    {
     "name": "stdout",
     "output_type": "stream",
     "text": [
      "Lambda 1: (-1.9999999999999982+4.123105625617662j), Gerundet: (-2+4.12j)\n",
      "Lambda 2: (-1.9999999999999982-4.123105625617662j), Gerundet: (-2-4.12j)\n",
      "Lambda 3: (-2.9999999999999982+0j), Gerundet: (-3+0j)\n"
     ]
    },
    {
     "name": "stderr",
     "output_type": "stream",
     "text": [
      "c:\\Users\\chatr\\Documents\\Studium\\6_Semester\\LIAL\\linalg_notebooks\\.venv\\lib\\site-packages\\ipykernel_launcher.py:3: DeprecationWarning: The Python built-in `round` is deprecated for complex scalars, and will raise a `TypeError` in a future release. Use `np.round` or `scalar.round` instead.\n",
      "  This is separate from the ipykernel package so we can avoid doing imports until\n"
     ]
    }
   ],
   "source": [
    "eigenwerte = la.eigvals(A)\n",
    "for i, eig in enumerate(eigenwerte):\n",
    "    print(f'Lambda {i+1}: {eig}, Gerundet: {round(eig, 2)}')"
   ]
  },
  {
   "cell_type": "markdown",
   "metadata": {},
   "source": [
    "### Eigenvektoren"
   ]
  },
  {
   "cell_type": "code",
   "execution_count": 20,
   "metadata": {},
   "outputs": [
    {
     "name": "stdout",
     "output_type": "stream",
     "text": [
      "Vektor 1:\n",
      "(0.7646867088630902+0j), Gerundet: (0.76+0j)\n",
      "(0.7646867088630902-0j), Gerundet: (0.76-0j)\n",
      "(-0.9486832980505138+0j), Gerundet: (-0.95+0j)\n",
      "Vektor 2:\n",
      "(0.08865932856383676+0.3198578043194091j), Gerundet: (0.09+0.32j)\n",
      "(0.08865932856383676-0.3198578043194091j), Gerundet: (0.09-0.32j)\n",
      "(0.3162277660168382+0j), Gerundet: (0.32+0j)\n",
      "Vektor 3:\n",
      "(0.0664944964228772-0.5483276645475585j), Gerundet: (0.07-0.55j)\n",
      "(0.0664944964228772+0.5483276645475585j), Gerundet: (0.07+0.55j)\n",
      "(5.177826122042654e-16+0j), Gerundet: 0j\n"
     ]
    },
    {
     "name": "stderr",
     "output_type": "stream",
     "text": [
      "c:\\Users\\chatr\\Documents\\Studium\\6_Semester\\LIAL\\linalg_notebooks\\.venv\\lib\\site-packages\\ipykernel_launcher.py:5: DeprecationWarning: The Python built-in `round` is deprecated for complex scalars, and will raise a `TypeError` in a future release. Use `np.round` or `scalar.round` instead.\n",
      "  \"\"\"\n"
     ]
    }
   ],
   "source": [
    "eigenvektoren = la.eig(A)[1]\n",
    "for i, eig in enumerate(eigenvektoren):\n",
    "    print(f'Vektor {i+1}:')\n",
    "    for v in eig:\n",
    "        print(f'{v}, Gerundet: {round(v, 2)}')"
   ]
  },
  {
   "cell_type": "markdown",
   "metadata": {},
   "source": [
    "### LU-Zerlegung"
   ]
  },
  {
   "cell_type": "code",
   "execution_count": 21,
   "metadata": {},
   "outputs": [
    {
     "name": "stdout",
     "output_type": "stream",
     "text": [
      "Permutationsmatrix:\n",
      "[[1. 0. 0.]\n",
      " [0. 0. 1.]\n",
      " [0. 1. 0.]]\n",
      "\n",
      "L, U:\n",
      "L:\n",
      "[[ 1.          0.          0.        ]\n",
      " [-1.          1.          0.        ]\n",
      " [ 0.5        -0.83333333  1.        ]]\n",
      "U:\n",
      "[[-2.   3.  -4. ]\n",
      " [ 0.   9.  -3. ]\n",
      " [ 0.   0.  -3.5]]\n",
      "\n",
      "L, U Gerundet:\n",
      "L:\n",
      "[[ 1.    0.    0.  ]\n",
      " [-1.    1.    0.  ]\n",
      " [ 0.5  -0.83  1.  ]]\n",
      "U:\n",
      "[[-2.   3.  -4. ]\n",
      " [ 0.   9.  -3. ]\n",
      " [ 0.   0.  -3.5]]\n"
     ]
    }
   ],
   "source": [
    "P, L, U = lu(A)\n",
    "print(f'Permutationsmatrix:\\n{P}')\n",
    "print('\\nL, U:')\n",
    "print(f'L:\\n{L}')\n",
    "print(f'U:\\n{U}')\n",
    "print('\\nL, U Gerundet:')\n",
    "print(f'L:\\n{np.around(L, 2)}')\n",
    "print(f'U:\\n{np.around(U, 2)}')"
   ]
  }
 ],
 "metadata": {
  "kernelspec": {
   "display_name": "Python 3.7.9 ('.venv': venv)",
   "language": "python",
   "name": "python3"
  },
  "language_info": {
   "codemirror_mode": {
    "name": "ipython",
    "version": 3
   },
   "file_extension": ".py",
   "mimetype": "text/x-python",
   "name": "python",
   "nbconvert_exporter": "python",
   "pygments_lexer": "ipython3",
   "version": "3.7.9"
  },
  "orig_nbformat": 4,
  "vscode": {
   "interpreter": {
    "hash": "56aea455e691ac98f863ca58aca37ee31c5c13a4edf93477d1a9363b4823949b"
   }
  }
 },
 "nbformat": 4,
 "nbformat_minor": 2
}
