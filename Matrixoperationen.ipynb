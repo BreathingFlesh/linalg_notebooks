{
 "cells": [
  {
   "cell_type": "code",
   "execution_count": 119,
   "metadata": {},
   "outputs": [],
   "source": [
    "import numpy as np\n",
    "import numpy.linalg as la\n",
    "from scipy.linalg import lu\n",
    "import fractions\n",
    "\n",
    "# Uncomment for fractions\n",
    "# np.set_printoptions(formatter={'all':lambda x: str(fractions.Fraction(x).limit_denominator())}) \n",
    "\n",
    "# Uncomment for decimals\n",
    "np.set_printoptions(formatter={})"
   ]
  },
  {
   "cell_type": "code",
   "execution_count": 120,
   "metadata": {},
   "outputs": [
    {
     "name": "stdout",
     "output_type": "stream",
     "text": [
      "A = \n",
      " [[[-2.5 -2.5]\n",
      "  [-0.5 -1.5]\n",
      "  [ 0.5  0.5]\n",
      "  [ 2.5  3.5]]]\n",
      "B = \n",
      " [[4.3333 4.3333]\n",
      " [5.3333 7.    ]]\n"
     ]
    }
   ],
   "source": [
    "# Matrizen definieren\n",
    "A = np.array([\n",
    "    [[-2.5, -2.5],\n",
    "    [-0.5, -1.5],\n",
    "    [ 0.5,  0.5],\n",
    "    [ 2.5,  3.5]]\n",
    "])\n",
    "B = np.array([\n",
    "    [4.3333, 4.3333],\n",
    "    [5.3333, 7]\n",
    "])\n",
    "a = np.array(\n",
    "    [1, 2]\n",
    ")\n",
    "\n",
    "print(f'A = \\n {A}')\n",
    "print(f'B = \\n {B}')"
   ]
  },
  {
   "cell_type": "markdown",
   "metadata": {},
   "source": [
    "### Matrixmultiplikation"
   ]
  },
  {
   "cell_type": "code",
   "execution_count": 121,
   "metadata": {},
   "outputs": [
    {
     "data": {
      "text/plain": [
       "array([[[-24.1665 , -28.33325],\n",
       "        [-10.1666 , -12.66665],\n",
       "        [  4.8333 ,   5.66665],\n",
       "        [ 29.4998 ,  35.33325]]])"
      ]
     },
     "execution_count": 121,
     "metadata": {},
     "output_type": "execute_result"
    }
   ],
   "source": [
    "np.matmul(A, B)"
   ]
  },
  {
   "cell_type": "markdown",
   "metadata": {},
   "source": [
    "### Matrix mit Vektor multiplizieren"
   ]
  },
  {
   "cell_type": "code",
   "execution_count": 122,
   "metadata": {},
   "outputs": [
    {
     "data": {
      "text/plain": [
       "array([[-7.5, -3.5,  1.5,  9.5]])"
      ]
     },
     "execution_count": 122,
     "metadata": {},
     "output_type": "execute_result"
    }
   ],
   "source": [
    "np.matmul(A, a)"
   ]
  }
 ],
 "metadata": {
  "kernelspec": {
   "display_name": "Python 3.7.9 ('.venv': venv)",
   "language": "python",
   "name": "python3"
  },
  "language_info": {
   "codemirror_mode": {
    "name": "ipython",
    "version": 3
   },
   "file_extension": ".py",
   "mimetype": "text/x-python",
   "name": "python",
   "nbconvert_exporter": "python",
   "pygments_lexer": "ipython3",
   "version": "3.7.9"
  },
  "orig_nbformat": 4,
  "vscode": {
   "interpreter": {
    "hash": "56aea455e691ac98f863ca58aca37ee31c5c13a4edf93477d1a9363b4823949b"
   }
  }
 },
 "nbformat": 4,
 "nbformat_minor": 2
}
