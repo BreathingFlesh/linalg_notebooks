{
 "cells": [
  {
   "cell_type": "code",
   "execution_count": 10,
   "metadata": {},
   "outputs": [],
   "source": [
    "import numpy as np\n",
    "import numpy.linalg as la\n",
    "from scipy.linalg import lu"
   ]
  },
  {
   "cell_type": "code",
   "execution_count": 11,
   "metadata": {},
   "outputs": [
    {
     "name": "stdout",
     "output_type": "stream",
     "text": [
      "A = \n",
      " [[5 3 5]\n",
      " [5 2 9]\n",
      " [2 3 4]]\n",
      "B = \n",
      " [[1 3 5]\n",
      " [5 2 9]\n",
      " [2 3 4]]\n"
     ]
    }
   ],
   "source": [
    "# Matrizen definieren, Inverse, Eigenwerte usw. wird nur von Matrix A berechnet\n",
    "A = np.array([\n",
    "    [5, 3, 5],\n",
    "    [5, 2, 9],\n",
    "    [2, 3, 4]\n",
    "])\n",
    "B = np.array([\n",
    "    [1, 3, 5],\n",
    "    [5, 2, 9],\n",
    "    [2, 3, 4]\n",
    "])\n",
    "\n",
    "print(f'A = \\n {A}')\n",
    "print(f'B = \\n {B}')"
   ]
  },
  {
   "cell_type": "markdown",
   "metadata": {},
   "source": [
    "### Determinante"
   ]
  },
  {
   "cell_type": "code",
   "execution_count": 12,
   "metadata": {},
   "outputs": [
    {
     "name": "stdout",
     "output_type": "stream",
     "text": [
      "-45.999999999999986, Gerundet: -46.0\n"
     ]
    }
   ],
   "source": [
    "det = la.det(A)\n",
    "print(f'{det}, Gerundet: {round(det, 2)}')"
   ]
  },
  {
   "cell_type": "markdown",
   "metadata": {},
   "source": [
    "### Inverse"
   ]
  },
  {
   "cell_type": "code",
   "execution_count": 13,
   "metadata": {},
   "outputs": [
    {
     "name": "stdout",
     "output_type": "stream",
     "text": [
      "Inverse:\n",
      "[[ 0.41304348 -0.06521739 -0.36956522]\n",
      " [ 0.04347826 -0.2173913   0.43478261]\n",
      " [-0.23913043  0.19565217  0.10869565]]\n",
      "Gerundet:\n",
      "[[ 0.41 -0.07 -0.37]\n",
      " [ 0.04 -0.22  0.43]\n",
      " [-0.24  0.2   0.11]]\n"
     ]
    }
   ],
   "source": [
    "inv = la.inv(A)\n",
    "print(f'Inverse:\\n{inv}')\n",
    "print(f'Gerundet:\\n{np.around(inv, 2)}')"
   ]
  },
  {
   "cell_type": "markdown",
   "metadata": {},
   "source": [
    "### Transformation"
   ]
  },
  {
   "cell_type": "code",
   "execution_count": 14,
   "metadata": {},
   "outputs": [
    {
     "data": {
      "text/plain": [
       "array([[5, 5, 2],\n",
       "       [3, 2, 3],\n",
       "       [5, 9, 4]])"
      ]
     },
     "execution_count": 14,
     "metadata": {},
     "output_type": "execute_result"
    }
   ],
   "source": [
    "A.T"
   ]
  },
  {
   "cell_type": "markdown",
   "metadata": {},
   "source": [
    "### Matrixmultiplikation"
   ]
  },
  {
   "cell_type": "code",
   "execution_count": 15,
   "metadata": {},
   "outputs": [
    {
     "data": {
      "text/plain": [
       "array([[30, 36, 72],\n",
       "       [33, 46, 79],\n",
       "       [25, 24, 53]])"
      ]
     },
     "execution_count": 15,
     "metadata": {},
     "output_type": "execute_result"
    }
   ],
   "source": [
    "np.matmul(A, B)"
   ]
  },
  {
   "cell_type": "markdown",
   "metadata": {},
   "source": [
    "### Eigenwerte"
   ]
  },
  {
   "cell_type": "code",
   "execution_count": 16,
   "metadata": {},
   "outputs": [
    {
     "name": "stdout",
     "output_type": "stream",
     "text": [
      "Lambda 1: 11.853688000659918, Gerundet: 11.85\n",
      "Lambda 2: 1.588805917410658, Gerundet: 1.59\n",
      "Lambda 3: -2.4424939180705834, Gerundet: -2.44\n"
     ]
    }
   ],
   "source": [
    "eigenwerte = la.eigvals(A)\n",
    "for i, eig in enumerate(eigenwerte):\n",
    "    print(f'Lambda {i+1}: {eig}, Gerundet: {round(eig, 2)}')"
   ]
  },
  {
   "cell_type": "markdown",
   "metadata": {},
   "source": [
    "### Eigenvektoren"
   ]
  },
  {
   "cell_type": "code",
   "execution_count": 17,
   "metadata": {},
   "outputs": [
    {
     "name": "stdout",
     "output_type": "stream",
     "text": [
      "Vektor 1:\n",
      "-0.6012535141979378, Gerundet: -0.6\n",
      "-0.8608605423319998, Gerundet: -0.86\n",
      "0.104182002897443, Gerundet: 0.1\n",
      "Vektor 2:\n",
      "-0.6833570191446267, Gerundet: -0.68\n",
      "0.19674238743227285, Gerundet: 0.2\n",
      "-0.9135848464127081, Gerundet: -0.91\n",
      "Vektor 3:\n",
      "-0.4141465876358279, Gerundet: -0.41\n",
      "0.4692670451281495, Gerundet: 0.47\n",
      "0.3930761232602988, Gerundet: 0.39\n"
     ]
    }
   ],
   "source": [
    "eigenvektoren = la.eig(A)[1]\n",
    "for i, eig in enumerate(eigenvektoren):\n",
    "    print(f'Vektor {i+1}:')\n",
    "    for v in eig:\n",
    "        print(f'{v}, Gerundet: {round(v, 2)}')"
   ]
  },
  {
   "cell_type": "markdown",
   "metadata": {},
   "source": [
    "### LU-Zerlegung"
   ]
  },
  {
   "cell_type": "code",
   "execution_count": 18,
   "metadata": {},
   "outputs": [
    {
     "name": "stdout",
     "output_type": "stream",
     "text": [
      "Permutationsmatrix:\n",
      "[[1. 0. 0.]\n",
      " [0. 0. 1.]\n",
      " [0. 1. 0.]]\n",
      "\n",
      "L, U:\n",
      "L:\n",
      "[[ 1.          0.          0.        ]\n",
      " [ 0.4         1.          0.        ]\n",
      " [ 1.         -0.55555556  1.        ]]\n",
      "U:\n",
      "[[5.         3.         5.        ]\n",
      " [0.         1.8        2.        ]\n",
      " [0.         0.         5.11111111]]\n",
      "\n",
      "L, U Gerundet:\n",
      "L:\n",
      "[[ 1.    0.    0.  ]\n",
      " [ 0.4   1.    0.  ]\n",
      " [ 1.   -0.56  1.  ]]\n",
      "U:\n",
      "[[5.   3.   5.  ]\n",
      " [0.   1.8  2.  ]\n",
      " [0.   0.   5.11]]\n"
     ]
    }
   ],
   "source": [
    "P, L, U = lu(A)\n",
    "print(f'Permutationsmatrix:\\n{P}')\n",
    "print('\\nL, U:')\n",
    "print(f'L:\\n{L}')\n",
    "print(f'U:\\n{U}')\n",
    "print('\\nL, U Gerundet:')\n",
    "print(f'L:\\n{np.around(L, 2)}')\n",
    "print(f'U:\\n{np.around(U, 2)}')"
   ]
  }
 ],
 "metadata": {
  "kernelspec": {
   "display_name": "Python 3.7.9 ('.venv': venv)",
   "language": "python",
   "name": "python3"
  },
  "language_info": {
   "codemirror_mode": {
    "name": "ipython",
    "version": 3
   },
   "file_extension": ".py",
   "mimetype": "text/x-python",
   "name": "python",
   "nbconvert_exporter": "python",
   "pygments_lexer": "ipython3",
   "version": "3.7.9"
  },
  "orig_nbformat": 4,
  "vscode": {
   "interpreter": {
    "hash": "7edcbfe135b51ba319aae3c13f809501930ebc61c1ac695c09ff7a28b5bf6268"
   }
  }
 },
 "nbformat": 4,
 "nbformat_minor": 2
}
