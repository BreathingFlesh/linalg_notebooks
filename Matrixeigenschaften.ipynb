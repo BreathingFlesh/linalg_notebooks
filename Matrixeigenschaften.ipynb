{
 "cells": [
  {
   "cell_type": "code",
   "execution_count": 25,
   "metadata": {},
   "outputs": [],
   "source": [
    "import numpy as np\n",
    "import numpy.linalg as la\n",
    "import fractions\n",
    "\n",
    "# Uncomment for fractions\n",
    "# np.set_printoptions(formatter={'all':lambda x: str(fractions.Fraction(x).limit_denominator())}) \n",
    "\n",
    "# Uncomment for decimals\n",
    "np.set_printoptions(formatter={})"
   ]
  },
  {
   "cell_type": "code",
   "execution_count": 26,
   "metadata": {},
   "outputs": [
    {
     "name": "stdout",
     "output_type": "stream",
     "text": [
      "A = \n",
      " [[3 5]\n",
      " [1 7]]\n"
     ]
    }
   ],
   "source": [
    "# Matrix definieren\n",
    "A = np.array([\n",
    "    [3, 5],\n",
    "    [1, 7]\n",
    "])\n",
    "\n",
    "print(f'A = \\n {A}')"
   ]
  },
  {
   "cell_type": "markdown",
   "metadata": {},
   "source": [
    "### Eigenschaften"
   ]
  },
  {
   "cell_type": "code",
   "execution_count": 27,
   "metadata": {},
   "outputs": [
    {
     "name": "stdout",
     "output_type": "stream",
     "text": [
      "Determinante: 16.000000000000007, gerundet: 16.0\n",
      "\n",
      "Inverse:\n",
      "[[ 0.4375 -0.3125]\n",
      " [-0.0625  0.1875]]\n",
      "\n",
      "Transformation:\n",
      "[[3 1]\n",
      " [5 7]]\n",
      "\n",
      "Rang:\n",
      "2\n"
     ]
    }
   ],
   "source": [
    "# Determinante\n",
    "det = la.det(A)\n",
    "print(f'Determinante: {det}, gerundet: {round(det, 4)}')\n",
    "\n",
    "# Inverse\n",
    "inv = la.inv(A)\n",
    "print(f'\\nInverse:\\n{np.around(inv, 4)}')\n",
    "\n",
    "# Transformation\n",
    "print(f'\\nTransformation:\\n{A.T}') \n",
    "\n",
    "# Rang\n",
    "print(f'\\nRang:\\n{la.matrix_rank(A)}')"
   ]
  }
 ],
 "metadata": {
  "kernelspec": {
   "display_name": "Python 3.7.9 ('.venv': venv)",
   "language": "python",
   "name": "python3"
  },
  "language_info": {
   "codemirror_mode": {
    "name": "ipython",
    "version": 3
   },
   "file_extension": ".py",
   "mimetype": "text/x-python",
   "name": "python",
   "nbconvert_exporter": "python",
   "pygments_lexer": "ipython3",
   "version": "3.7.9"
  },
  "orig_nbformat": 4,
  "vscode": {
   "interpreter": {
    "hash": "56aea455e691ac98f863ca58aca37ee31c5c13a4edf93477d1a9363b4823949b"
   }
  }
 },
 "nbformat": 4,
 "nbformat_minor": 2
}
