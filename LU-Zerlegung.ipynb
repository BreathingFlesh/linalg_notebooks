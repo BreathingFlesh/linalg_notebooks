{
 "cells": [
  {
   "cell_type": "code",
   "execution_count": 4,
   "metadata": {},
   "outputs": [],
   "source": [
    "import numpy as np\n",
    "import numpy.linalg as la\n",
    "from scipy.linalg import lu\n",
    "import fractions\n",
    "\n",
    "# Uncomment for fractions\n",
    "# np.set_printoptions(formatter={'all':lambda x: str(fractions.Fraction(x).limit_denominator())}) \n",
    "\n",
    "# Uncomment for decimals\n",
    "np.set_printoptions(formatter={})"
   ]
  },
  {
   "cell_type": "code",
   "execution_count": 5,
   "metadata": {},
   "outputs": [
    {
     "name": "stdout",
     "output_type": "stream",
     "text": [
      "A = \n",
      " [[3 5]\n",
      " [1 7]]\n"
     ]
    }
   ],
   "source": [
    "# Matrix definieren\n",
    "A = np.array([\n",
    "    [3, 5],\n",
    "    [1, 7]\n",
    "])\n",
    "\n",
    "print(f'A = \\n {A}')"
   ]
  },
  {
   "cell_type": "markdown",
   "metadata": {},
   "source": [
    "### LU-Zerlegung"
   ]
  },
  {
   "cell_type": "code",
   "execution_count": 6,
   "metadata": {},
   "outputs": [
    {
     "name": "stdout",
     "output_type": "stream",
     "text": [
      "Permutationsmatrix:\n",
      "[[1. 0.]\n",
      " [0. 1.]]\n",
      "\n",
      "L, U:\n",
      "L:\n",
      "[[1.         0.        ]\n",
      " [0.33333333 1.        ]]\n",
      "U:\n",
      "[[3.         5.        ]\n",
      " [0.         5.33333333]]\n",
      "\n",
      "L, U Gerundet:\n",
      "L:\n",
      "[[1.     0.    ]\n",
      " [0.3333 1.    ]]\n",
      "U:\n",
      "[[3.     5.    ]\n",
      " [0.     5.3333]]\n"
     ]
    }
   ],
   "source": [
    "P, L, U = lu(A)\n",
    "print(f'Permutationsmatrix:\\n{P}')\n",
    "print('\\nL, U:')\n",
    "print(f'L:\\n{L}')\n",
    "print(f'U:\\n{U}')\n",
    "print('\\nL, U Gerundet:')\n",
    "print(f'L:\\n{np.around(L, 4)}')\n",
    "print(f'U:\\n{np.around(U, 4)}')"
   ]
  }
 ],
 "metadata": {
  "kernelspec": {
   "display_name": "Python 3.7.9 ('.venv': venv)",
   "language": "python",
   "name": "python3"
  },
  "language_info": {
   "codemirror_mode": {
    "name": "ipython",
    "version": 3
   },
   "file_extension": ".py",
   "mimetype": "text/x-python",
   "name": "python",
   "nbconvert_exporter": "python",
   "pygments_lexer": "ipython3",
   "version": "3.7.9"
  },
  "orig_nbformat": 4,
  "vscode": {
   "interpreter": {
    "hash": "56aea455e691ac98f863ca58aca37ee31c5c13a4edf93477d1a9363b4823949b"
   }
  }
 },
 "nbformat": 4,
 "nbformat_minor": 2
}
