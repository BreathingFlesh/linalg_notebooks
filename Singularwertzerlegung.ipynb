{
 "cells": [
  {
   "cell_type": "code",
   "execution_count": 262,
   "metadata": {},
   "outputs": [],
   "source": [
    "import numpy as np\n",
    "import numpy.linalg as la"
   ]
  },
  {
   "cell_type": "code",
   "execution_count": 263,
   "metadata": {},
   "outputs": [
    {
     "name": "stdout",
     "output_type": "stream",
     "text": [
      "A = \n",
      " [[1 1]\n",
      " [3 2]\n",
      " [4 4]\n",
      " [6 7]]\n"
     ]
    }
   ],
   "source": [
    "# Matrix definieren\n",
    "A = np.array([\n",
    "    [1, 1],\n",
    "    [3, 2],\n",
    "    [4, 4],\n",
    "    [6, 7]\n",
    "])  \n",
    "\n",
    "print(f'A = \\n {A}')"
   ]
  },
  {
   "cell_type": "markdown",
   "metadata": {},
   "source": [
    "### Singularwertzerlegung"
   ]
  },
  {
   "cell_type": "code",
   "execution_count": 264,
   "metadata": {},
   "outputs": [
    {
     "name": "stdout",
     "output_type": "stream",
     "text": [
      "U:\n",
      "[[-0.1234 -0.0464 -0.4842 -0.865 ]\n",
      " [-0.3067 -0.8707 -0.2898  0.2527]\n",
      " [-0.4938 -0.1856  0.7731 -0.3523]\n",
      " [-0.8043  0.4531 -0.2898  0.2527]]\n",
      "\n",
      "SIGMA (muss als Diagonalmatrix mit gleichen Dimensionen wie A geschrieben werden):\n",
      "S:\n",
      "[[11.45089344  0.        ]\n",
      " [ 0.          0.93650381]\n",
      " [ 0.          0.        ]\n",
      " [ 0.          0.        ]]\n",
      "\n",
      "V:\n",
      "[[-0.685  -0.7285]\n",
      " [-0.7285  0.685 ]]\n"
     ]
    }
   ],
   "source": [
    "svd = la.svd(A)\n",
    "\n",
    "print(f'U:\\n{np.around(svd[0], 4)}\\n')\n",
    "print('SIGMA (muss als Diagonalmatrix mit gleichen Dimensionen wie A geschrieben werden):')\n",
    "s = A.shape\n",
    "S = svd[1]\n",
    "Z = np.zeros(s)\n",
    "np.fill_diagonal(Z, S)\n",
    "\n",
    "print(f'S:\\n{Z}\\n')\n",
    "print(f'V:\\n{np.around(svd[2], 4)}')"
   ]
  },
  {
   "cell_type": "code",
   "execution_count": null,
   "metadata": {},
   "outputs": [],
   "source": []
  }
 ],
 "metadata": {
  "kernelspec": {
   "display_name": "Python 3.7.9 ('.venv': venv)",
   "language": "python",
   "name": "python3"
  },
  "language_info": {
   "name": "python",
   "version": "3.7.9"
  },
  "orig_nbformat": 4,
  "vscode": {
   "interpreter": {
    "hash": "56aea455e691ac98f863ca58aca37ee31c5c13a4edf93477d1a9363b4823949b"
   }
  }
 },
 "nbformat": 4,
 "nbformat_minor": 2
}
