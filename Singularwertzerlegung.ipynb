{
 "cells": [
  {
   "cell_type": "code",
   "execution_count": 259,
   "metadata": {},
   "outputs": [],
   "source": [
    "import numpy as np\n",
    "import numpy.linalg as la"
   ]
  },
  {
   "cell_type": "code",
   "execution_count": 260,
   "metadata": {},
   "outputs": [
    {
     "name": "stdout",
     "output_type": "stream",
     "text": [
      "A = \n",
      " [[-2.5 -2.5]\n",
      " [-0.5 -1.5]\n",
      " [ 0.5  0.5]\n",
      " [ 2.5  3.5]]\n"
     ]
    }
   ],
   "source": [
    "# Matrix definieren\n",
    "A = np.array([\n",
    "    [-2.5, -2.5],\n",
    "    [-0.5, -1.5],\n",
    "    [ 0.5,  0.5],\n",
    "    [ 2.5,  3.5]\n",
    "])\n",
    "\n",
    "print(f'A = \\n {A}')"
   ]
  },
  {
   "cell_type": "markdown",
   "metadata": {},
   "source": [
    "### Singularwertzerlegung"
   ]
  },
  {
   "cell_type": "code",
   "execution_count": 261,
   "metadata": {},
   "outputs": [
    {
     "name": "stdout",
     "output_type": "stream",
     "text": [
      "U:\n",
      "[[-0.6063  0.6063  0.1598  0.4891]\n",
      " [-0.2575 -0.7425 -0.0465  0.6166]\n",
      " [ 0.1213 -0.1213  0.985  -0.0211]\n",
      " [ 0.7425  0.2575 -0.0465  0.6166]]\n",
      "\n",
      "SIGMA (muss als Diagonalmatrix mit gleichen Dimensionen wie A geschrieben werden):\n",
      "S:\n",
      "[[5.78726382 0.        ]\n",
      " [0.         0.71244473]\n",
      " [0.         0.        ]\n",
      " [0.         0.        ]]\n",
      "\n",
      "V:\n",
      "[[ 0.6154  0.7882]\n",
      " [-0.7882  0.6154]]\n"
     ]
    }
   ],
   "source": [
    "svd = la.svd(A)\n",
    "\n",
    "print(f'U:\\n{np.around(svd[0], 4)}\\n')\n",
    "print('SIGMA (muss als Diagonalmatrix mit gleichen Dimensionen wie A geschrieben werden):')\n",
    "s = A.shape\n",
    "S = svd[1]\n",
    "Z = np.zeros(s)\n",
    "np.fill_diagonal(Z, S)\n",
    "\n",
    "print(f'S:\\n{Z}\\n')\n",
    "print(f'V:\\n{np.around(svd[2], 4)}')"
   ]
  },
  {
   "cell_type": "code",
   "execution_count": null,
   "metadata": {},
   "outputs": [],
   "source": []
  }
 ],
 "metadata": {
  "kernelspec": {
   "display_name": "Python 3.7.9 ('.venv': venv)",
   "language": "python",
   "name": "python3"
  },
  "language_info": {
   "name": "python",
   "version": "3.7.9"
  },
  "orig_nbformat": 4,
  "vscode": {
   "interpreter": {
    "hash": "56aea455e691ac98f863ca58aca37ee31c5c13a4edf93477d1a9363b4823949b"
   }
  }
 },
 "nbformat": 4,
 "nbformat_minor": 2
}
