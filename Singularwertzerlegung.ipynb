{
 "cells": [
  {
   "cell_type": "code",
   "execution_count": 108,
   "metadata": {},
   "outputs": [],
   "source": [
    "import numpy as np\n",
    "import numpy.linalg as la"
   ]
  },
  {
   "cell_type": "code",
   "execution_count": 109,
   "metadata": {},
   "outputs": [
    {
     "name": "stdout",
     "output_type": "stream",
     "text": [
      "A = \n",
      " [[ 3  2  2]\n",
      " [ 2  3 -2]]\n"
     ]
    }
   ],
   "source": [
    "# Matrix definieren\n",
    "A = np.array([\n",
    "    [3, 2, 2],\n",
    "    [2, 3, -2]\n",
    "])\n",
    "\n",
    "print(f'A = \\n {A}')"
   ]
  },
  {
   "cell_type": "markdown",
   "metadata": {},
   "source": [
    "### Singularwertzerlegung"
   ]
  },
  {
   "cell_type": "code",
   "execution_count": 114,
   "metadata": {},
   "outputs": [
    {
     "name": "stdout",
     "output_type": "stream",
     "text": [
      "U:\n",
      "[[-0.7071 -0.7071]\n",
      " [-0.7071  0.7071]]\n",
      "\n",
      "SIGMA (muss als Diagonalmatrix mit gleichen Dimensionen wie A geschrieben werden):\n",
      "S:\n",
      "[[5. 0. 0.]\n",
      " [0. 3. 0.]]\n",
      "\n",
      "V:\n",
      "[[-0.7071 -0.7071 -0.    ]\n",
      " [-0.2357  0.2357 -0.9428]\n",
      " [-0.6667  0.6667  0.3333]]\n",
      "\n",
      " A am Afang:\n",
      "[[ 3  2  2]\n",
      " [ 2  3 -2]]\n",
      "A:\n",
      "[[ 3.  2.  2.]\n",
      " [ 2.  3. -2.]]\n"
     ]
    }
   ],
   "source": [
    "svd = la.svd(A)\n",
    "\n",
    "print(f'U:\\n{np.around(svd[0], 4)}\\n')\n",
    "print('SIGMA (muss als Diagonalmatrix mit gleichen Dimensionen wie A geschrieben werden):')\n",
    "s = A.shape\n",
    "I = np.eye(s[0], s[1])\n",
    "S = I@np.diag(svd[1]@I)\n",
    "print(f'S:\\n{S}\\n')\n",
    "print(f'V:\\n{np.around(svd[2], 4)}')"
   ]
  }
 ],
 "metadata": {
  "kernelspec": {
   "display_name": "Python 3.7.9 ('.venv': venv)",
   "language": "python",
   "name": "python3"
  },
  "language_info": {
   "name": "python",
   "version": "3.7.9"
  },
  "orig_nbformat": 4,
  "vscode": {
   "interpreter": {
    "hash": "56aea455e691ac98f863ca58aca37ee31c5c13a4edf93477d1a9363b4823949b"
   }
  }
 },
 "nbformat": 4,
 "nbformat_minor": 2
}
