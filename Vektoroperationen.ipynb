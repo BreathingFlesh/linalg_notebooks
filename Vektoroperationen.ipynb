{
 "cells": [
  {
   "cell_type": "code",
   "execution_count": 1,
   "id": "91da6c2c",
   "metadata": {},
   "outputs": [],
   "source": [
    "import numpy as np"
   ]
  },
  {
   "cell_type": "code",
   "execution_count": 2,
   "id": "b07c532f",
   "metadata": {},
   "outputs": [
    {
     "name": "stdout",
     "output_type": "stream",
     "text": [
      "a = \n",
      "[2 2 5]\n",
      "b = \n",
      "[2 1 9]\n"
     ]
    }
   ],
   "source": [
    "# Vektoren definieren\n",
    "a = np.array ([2, 2, 5])\n",
    "b = np.array ([2, 1, 9])\n",
    "\n",
    "print (f'a = \\n{a}')\n",
    "print (f'b = \\n{b}')"
   ]
  },
  {
   "cell_type": "markdown",
   "id": "59d4fb9a",
   "metadata": {},
   "source": [
    "### Addition"
   ]
  },
  {
   "cell_type": "code",
   "execution_count": 3,
   "id": "c5c41ecc",
   "metadata": {},
   "outputs": [
    {
     "data": {
      "text/plain": [
       "array([ 4,  3, 14])"
      ]
     },
     "execution_count": 3,
     "metadata": {},
     "output_type": "execute_result"
    }
   ],
   "source": [
    "a + b"
   ]
  },
  {
   "cell_type": "markdown",
   "id": "bfabf642",
   "metadata": {},
   "source": [
    "### Skalarprodukt\n",
    "a • b <br>\n",
    "Wenn das Skalarprodukt zweier Vektoren 0 sind stehen sie senkrecht (orthogonal) aufeinander."
   ]
  },
  {
   "cell_type": "code",
   "execution_count": 4,
   "id": "b0a90e07",
   "metadata": {},
   "outputs": [
    {
     "data": {
      "text/plain": [
       "51"
      ]
     },
     "execution_count": 4,
     "metadata": {},
     "output_type": "execute_result"
    }
   ],
   "source": [
    "np.dot(a, b)"
   ]
  },
  {
   "cell_type": "markdown",
   "id": "3b013363",
   "metadata": {},
   "source": [
    "### Vektorprodukt/Kreuzprodukt\n",
    "a x b\n"
   ]
  },
  {
   "cell_type": "code",
   "execution_count": 5,
   "id": "68664c84",
   "metadata": {},
   "outputs": [
    {
     "data": {
      "text/plain": [
       "array([13, -8, -2])"
      ]
     },
     "execution_count": 5,
     "metadata": {},
     "output_type": "execute_result"
    }
   ],
   "source": [
    "np.cross(a, b)"
   ]
  },
  {
   "cell_type": "markdown",
   "id": "ad62160e",
   "metadata": {},
   "source": [
    "### Vektorskalierung\n",
    "Zahl * Vektor = Streckung oder Stauchung des Vektors"
   ]
  },
  {
   "cell_type": "code",
   "execution_count": 6,
   "id": "b0ce3357",
   "metadata": {},
   "outputs": [
    {
     "data": {
      "text/plain": [
       "array([ 8,  8, 20])"
      ]
     },
     "execution_count": 6,
     "metadata": {},
     "output_type": "execute_result"
    }
   ],
   "source": [
    "s = 4 # s = Streckungsfaktor\n",
    "a * s"
   ]
  },
  {
   "cell_type": "markdown",
   "id": "fdf8785e",
   "metadata": {},
   "source": [
    "### Vektornormierung / Einheitsvektor"
   ]
  },
  {
   "cell_type": "code",
   "execution_count": 7,
   "id": "35e42381",
   "metadata": {},
   "outputs": [
    {
     "name": "stdout",
     "output_type": "stream",
     "text": [
      "Länge des Vektors: 5.744562646538029, Gerundet: 5.7446\n",
      "Normierter Vektor: [0.34815531 0.34815531 0.87038828], Gerundet: [0.3482 0.3482 0.8704]\n"
     ]
    }
   ],
   "source": [
    "norm = np.linalg.norm(a)\n",
    "print(f'Länge des Vektors: {norm}, Gerundet: {round(norm, 4)}')\n",
    "print(f'Normierter Vektor: {a/norm}, Gerundet: {np.around(a/norm, 4)}')"
   ]
  }
 ],
 "metadata": {
  "kernelspec": {
   "display_name": "Python 3.7.9 ('.venv': venv)",
   "language": "python",
   "name": "python3"
  },
  "language_info": {
   "codemirror_mode": {
    "name": "ipython",
    "version": 3
   },
   "file_extension": ".py",
   "mimetype": "text/x-python",
   "name": "python",
   "nbconvert_exporter": "python",
   "pygments_lexer": "ipython3",
   "version": "3.7.9"
  },
  "vscode": {
   "interpreter": {
    "hash": "56aea455e691ac98f863ca58aca37ee31c5c13a4edf93477d1a9363b4823949b"
   }
  }
 },
 "nbformat": 4,
 "nbformat_minor": 5
}
