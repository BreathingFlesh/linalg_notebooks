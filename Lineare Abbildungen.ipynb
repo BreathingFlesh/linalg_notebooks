{
 "cells": [
  {
   "cell_type": "code",
   "execution_count": 41,
   "metadata": {},
   "outputs": [],
   "source": [
    "import numpy as np\n",
    "from numpy import linalg as la\n",
    "import matplotlib.pyplot as pl\n",
    "import matplotlib.ticker as tk"
   ]
  },
  {
   "cell_type": "code",
   "execution_count": 42,
   "metadata": {},
   "outputs": [
    {
     "name": "stdout",
     "output_type": "stream",
     "text": [
      "[[1 2 2 3 3 2 2 4 4 1 1]\n",
      " [1 1 2 2 3 3 4 4 5 5 1]\n",
      " [1 1 1 1 1 1 1 1 1 1 1]]\n"
     ]
    }
   ],
   "source": [
    "# Abbildung definieren (letzte Zeile muss mit 1 aufgefüllt werden)\n",
    "P = np.array ([\n",
    "    [1, 2, 2, 3, 3, 2, 2, 4, 4, 1, 1],\n",
    "    [1, 1, 2, 2, 3, 3, 4, 4, 5, 5, 1],\n",
    "    [1, 1, 1, 1, 1, 1, 1, 1, 1, 1, 1]\n",
    "])\n",
    "print (P)\n",
    "\n",
    "# Rotationswinkel (im Gradmass)\n",
    "rot = 225\n",
    "\n",
    "# Translation oder Rotationszentrum (0, 0 für Standard)\n",
    "tl_x = 4\n",
    "tl_y = 8\n",
    "\n",
    "# Skalierung\n",
    "s = 2 # Skalierungsfaktor\n",
    "\n",
    "# Drehstreckung\n",
    "ds = 1 # Kann für \"nach vorne lehnen\" auch negativ sein\n",
    "\n",
    "# Drehstreckung mit Winkel\n",
    "dss = 2 # Skalierungsfaktor der Drehstreckung\n",
    "dw = 30 # Drehwinkel\n",
    "\n",
    "# Achsenspiegelung horizontal/vertikal\n",
    "h = False\n",
    "v = True\n",
    "\n",
    "# Achsenspiegelung mit Winkel\n",
    "aw = 45 # Winkel der Spiegelachse\n",
    "\n",
    "# Scherung\n",
    "sx = 1\n",
    "sy = 2"
   ]
  },
  {
   "cell_type": "markdown",
   "metadata": {},
   "source": [
    "### Definition Methoden"
   ]
  },
  {
   "cell_type": "code",
   "execution_count": 43,
   "metadata": {},
   "outputs": [],
   "source": [
    "# Translation\n",
    "def tl(u,v):\n",
    "    return np.array([\n",
    "        [1,0,u],\n",
    "        [0,1,v],\n",
    "        [0,0,1]\n",
    "    ])\n",
    "\n",
    "# Rotation\n",
    "def rt(phi):\n",
    "    t = phi * np.pi / 180 # Vom Grad- ins Bogenmass\n",
    "    c = np.cos(t)\n",
    "    s = np.sin(t)\n",
    "    return np.array([\n",
    "        [c, -s, 0],\n",
    "        [s,  c, 0],\n",
    "        [0,  0, 1]\n",
    "    ])\n",
    "\n",
    "# Skalierung\n",
    "def sk(s):\n",
    "    return np.array([\n",
    "        [s ,0, 0],\n",
    "        [0 ,s, 0],\n",
    "        [0, 0, s]\n",
    "    ])\n",
    "\n",
    "# Drehstreckung\n",
    "def drst(ds):\n",
    "    return np.array([\n",
    "        [1  , -ds, 0],\n",
    "        [ds, 1 , 0],\n",
    "        [0  , 0 , 1]\n",
    "    ])\n",
    "\n",
    "# Drehstreckung mit Winkel\n",
    "def drstw(ds, dw):\n",
    "    t = dw * np.pi / 180 # Vom Grad- ins Bogenmass\n",
    "    c = ds * np.cos(t)\n",
    "    s = ds * np.sin(t)\n",
    "    return np.array([\n",
    "        [c , -s, 0],\n",
    "        [s , c , 0],\n",
    "        [0 , 0 , 1]\n",
    "    ])\n",
    "\n",
    "# Achsenspiegelung\n",
    "def acs(h, v):\n",
    "    h = 1-2*h\n",
    "    v = 1-2*v\n",
    "\n",
    "    return np.array([\n",
    "        [v, 0, 0],\n",
    "        [0, h ,0],\n",
    "        [0, 0 ,0]\n",
    "    ])\n",
    "\n",
    "# Achsenspiegelung mit Winkel\n",
    "def acw(aw):\n",
    "    t = aw * np.pi / 180 # Vom Grad- ins Bogenmass\n",
    "    c = np.cos(2 * t)\n",
    "    s = np.sin(2 * t)\n",
    "    return np.array([\n",
    "        [c , s, 0],\n",
    "        [s , -c , 0],\n",
    "        [0 , 0 , 1]\n",
    "    ])\n",
    "\n",
    "# Scherung\n",
    "def sch(sx, sy):\n",
    "    return np.array([\n",
    "        [1 , sx, 0],\n",
    "        [sy, 1 , 0],\n",
    "        [0 , 0 , 1]\n",
    "    ])"
   ]
  },
  {
   "cell_type": "markdown",
   "metadata": {},
   "source": [
    "### Plot Rotation\n",
    "Mit oder ohne Verschiebung des Drehzentrums"
   ]
  },
  {
   "cell_type": "code",
   "execution_count": 59,
   "metadata": {},
   "outputs": [
    {
     "name": "stdout",
     "output_type": "stream",
     "text": [
      "Translationsmatrix:\n",
      "[[1 0 4]\n",
      " [0 1 8]\n",
      " [0 0 1]]\n",
      "Rotationsmatrix:\n",
      "[[-0.7071  0.7071  0.    ]\n",
      " [-0.7071 -0.7071  0.    ]\n",
      " [ 0.      0.      1.    ]]\n",
      "Translationsmatrix^-1:\n",
      "[[ 1.  0. -4.]\n",
      " [ 0.  1. -8.]\n",
      " [ 0.  0.  1.]]\n",
      "\n",
      "T*R*T^-1:\n",
      "[[-0.7071  0.7071  1.1716]\n",
      " [-0.7071 -0.7071 16.4853]\n",
      " [ 0.      0.      1.    ]]\n",
      "\n",
      "Q = T*R*T^-1*P:\n",
      "[[ 1.1716  0.4645  1.1716  0.4645  1.1716  1.8787  2.5858  1.1716  1.8787\n",
      "   4.      1.1716]\n",
      " [15.0711 14.364  13.6569 12.9497 12.2426 12.9497 12.2426 10.8284 10.1213\n",
      "  12.2426 15.0711]\n",
      " [ 1.      1.      1.      1.      1.      1.      1.      1.      1.\n",
      "   1.      1.    ]]\n"
     ]
    },
    {
     "data": {
      "text/plain": [
       "[<matplotlib.lines.Line2D at 0x1316d12e088>]"
      ]
     },
     "execution_count": 59,
     "metadata": {},
     "output_type": "execute_result"
    },
    {
     "data": {
      "image/png": "[encoded data removed]",
      "text/plain": [
       "<Figure size 432x288 with 1 Axes>"
      ]
     },
     "metadata": {
      "needs_background": "light"
     },
     "output_type": "display_data"
    }
   ],
   "source": [
    "axs = pl.axes()\n",
    "axs.axis ('equal')\n",
    "axs.xaxis.set_major_locator (tk.MultipleLocator (1.0))\n",
    "axs.yaxis.set_major_locator (tk.MultipleLocator (1.0))\n",
    "axs.grid()\n",
    "\n",
    "T = tl(tl_x, tl_y)\n",
    "R = rt(rot)\n",
    "print(f'Translationsmatrix:\\n{T}')\n",
    "print(f'Rotationsmatrix:\\n{np.around(R, 4)}')\n",
    "print(f'Translationsmatrix^-1:\\n{la.inv(T)}')\n",
    "\n",
    "print(f'\\nT*R*T^-1:\\n{np.around(T@R@la.inv(T),4)}\\n')\n",
    "Q = T @ R @ la.inv(T) @ P # Zuerst verschieben, dann um den 0 Punkt rotieren und wieder zurück verschieben (inverse der Translationsmatrix)\n",
    "print(f'Q = T*R*T^-1*P:\\n{np.around(Q, 4)}')\n",
    "pl.plot (P [0, :], P [1, :], 'blue')\n",
    "pl.plot (Q [0, :], Q [1, :], 'magenta')"
   ]
  },
  {
   "cell_type": "markdown",
   "metadata": {},
   "source": [
    "### Plot Translation"
   ]
  },
  {
   "cell_type": "code",
   "execution_count": 45,
   "metadata": {},
   "outputs": [
    {
     "name": "stdout",
     "output_type": "stream",
     "text": [
      "Translationsmatrix:\n",
      "[[1 0 4]\n",
      " [0 1 8]\n",
      " [0 0 1]]\n",
      "Q = T*P:\n",
      "[[ 5  6  6  7  7  6  6  8  8  5  5]\n",
      " [ 9  9 10 10 11 11 12 12 13 13  9]\n",
      " [ 1  1  1  1  1  1  1  1  1  1  1]]\n"
     ]
    },
    {
     "data": {
      "text/plain": [
       "[<matplotlib.lines.Line2D at 0x1316b5ae208>]"
      ]
     },
     "execution_count": 45,
     "metadata": {},
     "output_type": "execute_result"
    },
    {
     "data": {
      "image/png": "[encoded data removed]",
      "text/plain": [
       "<Figure size 432x288 with 1 Axes>"
      ]
     },
     "metadata": {
      "needs_background": "light"
     },
     "output_type": "display_data"
    }
   ],
   "source": [
    "axs = pl.axes()\n",
    "axs.axis ('equal')\n",
    "axs.xaxis.set_major_locator (tk.MultipleLocator (1.0))\n",
    "axs.yaxis.set_major_locator (tk.MultipleLocator (1.0))\n",
    "axs.grid()\n",
    "\n",
    "T = tl(tl_x, tl_y)\n",
    "Q = T @ P\n",
    "print(f'Translationsmatrix:\\n{T}')\n",
    "print(f'Q = T*P:\\n{Q}')\n",
    "pl.plot (P [0, :], P [1, :], 'blue')\n",
    "pl.plot (Q [0, :], Q [1, :], 'magenta')"
   ]
  },
  {
   "cell_type": "markdown",
   "metadata": {},
   "source": [
    "### Plot Skalierung"
   ]
  },
  {
   "cell_type": "code",
   "execution_count": 46,
   "metadata": {},
   "outputs": [
    {
     "name": "stdout",
     "output_type": "stream",
     "text": [
      "Skaliermatrix:\n",
      "[[2 0 0]\n",
      " [0 2 0]\n",
      " [0 0 2]]\n",
      "Q = S*P:\n",
      "[[ 5  6  6  7  7  6  6  8  8  5  5]\n",
      " [ 9  9 10 10 11 11 12 12 13 13  9]\n",
      " [ 1  1  1  1  1  1  1  1  1  1  1]]\n"
     ]
    },
    {
     "data": {
      "text/plain": [
       "[<matplotlib.lines.Line2D at 0x1316c694608>]"
      ]
     },
     "execution_count": 46,
     "metadata": {},
     "output_type": "execute_result"
    },
    {
     "data": {
      "image/png": "[encoded data removed]",
      "text/plain": [
       "<Figure size 432x288 with 1 Axes>"
      ]
     },
     "metadata": {
      "needs_background": "light"
     },
     "output_type": "display_data"
    }
   ],
   "source": [
    "axs = pl.axes()\n",
    "axs.axis ('equal')\n",
    "axs.xaxis.set_major_locator (tk.MultipleLocator (1.0))\n",
    "axs.yaxis.set_major_locator (tk.MultipleLocator (1.0))\n",
    "axs.grid()\n",
    "\n",
    "S = sk(s)\n",
    "Q = S @ P\n",
    "print(f'Skaliermatrix:\\n{S}')\n",
    "print(f'Q = S*P:\\n{np.around(Q, 4)}')\n",
    "pl.plot (P [0, :], P [1, :], 'blue')\n",
    "pl.plot (Q [0, :], Q [1, :], 'magenta')"
   ]
  },
  {
   "cell_type": "markdown",
   "metadata": {},
   "source": [
    "### Plot Drehstreckung"
   ]
  },
  {
   "cell_type": "code",
   "execution_count": 47,
   "metadata": {},
   "outputs": [
    {
     "name": "stdout",
     "output_type": "stream",
     "text": [
      "Drehstreckung:\n",
      "[[ 1 -1  0]\n",
      " [ 1  1  0]\n",
      " [ 0  0  1]]\n",
      "Q = D*P:\n",
      "[[ 2  4  4  6  6  4  4  8  8  2  2]\n",
      " [ 2  2  4  4  6  6  8  8 10 10  2]\n",
      " [ 2  2  2  2  2  2  2  2  2  2  2]]\n"
     ]
    },
    {
     "data": {
      "text/plain": [
       "[<matplotlib.lines.Line2D at 0x1316c756048>]"
      ]
     },
     "execution_count": 47,
     "metadata": {},
     "output_type": "execute_result"
    },
    {
     "data": {
      "image/png": "[encoded data removed]",
      "text/plain": [
       "<Figure size 432x288 with 1 Axes>"
      ]
     },
     "metadata": {
      "needs_background": "light"
     },
     "output_type": "display_data"
    }
   ],
   "source": [
    "axs = pl.axes()\n",
    "axs.axis ('equal')\n",
    "axs.xaxis.set_major_locator (tk.MultipleLocator (1.0))\n",
    "axs.yaxis.set_major_locator (tk.MultipleLocator (1.0))\n",
    "axs.grid()\n",
    "\n",
    "D = drst(ds)\n",
    "Q = D @ P\n",
    "print(f'Drehstreckung:\\n{D}')\n",
    "print(f'Q = D*P:\\n{np.around(Q, 4)}')\n",
    "pl.plot (P [0, :], P [1, :], 'blue')\n",
    "pl.plot (Q [0, :], Q [1, :], 'magenta')"
   ]
  },
  {
   "cell_type": "markdown",
   "metadata": {},
   "source": [
    "### Drehstreckung mit Winkel"
   ]
  },
  {
   "cell_type": "code",
   "execution_count": 48,
   "metadata": {},
   "outputs": [
    {
     "name": "stdout",
     "output_type": "stream",
     "text": [
      "Drehstreckung mit Winkel:\n",
      "[[ 1.73205081 -1.          0.        ]\n",
      " [ 1.          1.73205081  0.        ]\n",
      " [ 0.          0.          1.        ]]\n",
      "Q = D*P:\n",
      "[[ 0.7321  2.4641  1.4641  3.1962  2.1962  0.4641 -0.5359  2.9282  1.9282\n",
      "  -3.2679  0.7321]\n",
      " [ 2.7321  3.7321  5.4641  6.4641  8.1962  7.1962  8.9282 10.9282 12.6603\n",
      "   9.6603  2.7321]\n",
      " [ 1.      1.      1.      1.      1.      1.      1.      1.      1.\n",
      "   1.      1.    ]]\n"
     ]
    },
    {
     "data": {
      "text/plain": [
       "[<matplotlib.lines.Line2D at 0x1316c7f09c8>]"
      ]
     },
     "execution_count": 48,
     "metadata": {},
     "output_type": "execute_result"
    },
    {
     "data": {
      "image/png": "[encoded data removed]",
      "text/plain": [
       "<Figure size 432x288 with 1 Axes>"
      ]
     },
     "metadata": {
      "needs_background": "light"
     },
     "output_type": "display_data"
    }
   ],
   "source": [
    "axs = pl.axes()\n",
    "axs.axis ('equal')\n",
    "axs.xaxis.set_major_locator (tk.MultipleLocator (1.0))\n",
    "axs.yaxis.set_major_locator (tk.MultipleLocator (1.0))\n",
    "axs.grid()\n",
    "\n",
    "D = drstw(dss,dw)\n",
    "Q = D @ P\n",
    "print(f'Drehstreckung mit Winkel:\\n{D}')\n",
    "print(f'Q = D*P:\\n{np.around(Q, 4)}')\n",
    "pl.plot (P [0, :], P [1, :], 'blue')\n",
    "pl.plot (Q [0, :], Q [1, :], 'magenta')"
   ]
  },
  {
   "cell_type": "markdown",
   "metadata": {},
   "source": [
    "### Achsenspiegelung"
   ]
  },
  {
   "cell_type": "code",
   "execution_count": 49,
   "metadata": {},
   "outputs": [
    {
     "name": "stdout",
     "output_type": "stream",
     "text": [
      "Achsenspiegelung:  vertikal\n",
      "\n",
      "[[-1  0  0]\n",
      " [ 0  1  0]\n",
      " [ 0  0  0]]\n",
      "Q = A*P \\[[-1 -2 -2 -3 -3 -2 -2 -4 -4 -1 -1]\n",
      " [ 1  1  2  2  3  3  4  4  5  5  1]\n",
      " [ 0  0  0  0  0  0  0  0  0  0  0]]\n"
     ]
    },
    {
     "data": {
      "text/plain": [
       "[<matplotlib.lines.Line2D at 0x1316c8cb9c8>]"
      ]
     },
     "execution_count": 49,
     "metadata": {},
     "output_type": "execute_result"
    },
    {
     "data": {
      "image/png": "[encoded data removed]",
      "text/plain": [
       "<Figure size 432x288 with 1 Axes>"
      ]
     },
     "metadata": {
      "needs_background": "light"
     },
     "output_type": "display_data"
    }
   ],
   "source": [
    "axs = pl.axes()\n",
    "axs.axis ('equal')\n",
    "axs.xaxis.set_major_locator (tk.MultipleLocator (1.0))\n",
    "axs.yaxis.set_major_locator (tk.MultipleLocator (1.0))\n",
    "axs.grid()\n",
    "\n",
    "A = acs(h,v)\n",
    "Q = A @ P\n",
    "print(f'Achsenspiegelung: {\"horizontal\" if h else \"\"} {\"vertikal\" if v else \"\"}')\n",
    "print(f'\\n{A}')\n",
    "print(f'Q = A*P \\{Q}')\n",
    "pl.plot (P [0, :], P [1, :], 'blue')\n",
    "pl.plot (Q [0, :], Q [1, :], 'magenta')"
   ]
  },
  {
   "cell_type": "markdown",
   "metadata": {},
   "source": [
    "### Achsenspiegelung mit Winkel"
   ]
  },
  {
   "cell_type": "code",
   "execution_count": 50,
   "metadata": {},
   "outputs": [
    {
     "name": "stdout",
     "output_type": "stream",
     "text": [
      "Achsenspiegelung mit Winkel: \n",
      "[[ 6.123234e-17  1.000000e+00  0.000000e+00]\n",
      " [ 1.000000e+00 -6.123234e-17  0.000000e+00]\n",
      " [ 0.000000e+00  0.000000e+00  1.000000e+00]]\n",
      "Q = A*P: \n",
      "[[1. 1. 2. 2. 3. 3. 4. 4. 5. 5. 1.]\n",
      " [1. 2. 2. 3. 3. 2. 2. 4. 4. 1. 1.]\n",
      " [1. 1. 1. 1. 1. 1. 1. 1. 1. 1. 1.]]\n"
     ]
    },
    {
     "data": {
      "text/plain": [
       "[<matplotlib.lines.Line2D at 0x1316c951fc8>]"
      ]
     },
     "execution_count": 50,
     "metadata": {},
     "output_type": "execute_result"
    },
    {
     "data": {
      "image/png": "[encoded data removed]",
      "text/plain": [
       "<Figure size 432x288 with 1 Axes>"
      ]
     },
     "metadata": {
      "needs_background": "light"
     },
     "output_type": "display_data"
    }
   ],
   "source": [
    "axs = pl.axes()\n",
    "axs.axis ('equal')\n",
    "axs.xaxis.set_major_locator (tk.MultipleLocator (1.0))\n",
    "axs.yaxis.set_major_locator (tk.MultipleLocator (1.0))\n",
    "axs.grid()\n",
    "\n",
    "A = acw(aw)\n",
    "Q = A @ P\n",
    "print(f'Achsenspiegelung mit Winkel: \\n{A}')\n",
    "print(f'Q = A*P: \\n{Q}')\n",
    "pl.plot (P [0, :], P [1, :], 'blue')\n",
    "pl.plot (Q [0, :], Q [1, :], 'magenta')"
   ]
  },
  {
   "cell_type": "markdown",
   "metadata": {},
   "source": [
    "### Scherung"
   ]
  },
  {
   "cell_type": "code",
   "execution_count": 51,
   "metadata": {},
   "outputs": [
    {
     "name": "stdout",
     "output_type": "stream",
     "text": [
      "Scherungsmatrix:\n",
      "[[1 1 0]\n",
      " [2 1 0]\n",
      " [0 0 1]]\n",
      "Q = S*P:\n",
      "[[ 2  3  4  5  6  5  6  8  9  6  2]\n",
      " [ 3  5  6  8  9  7  8 12 13  7  3]\n",
      " [ 1  1  1  1  1  1  1  1  1  1  1]]\n"
     ]
    },
    {
     "data": {
      "text/plain": [
       "[<matplotlib.lines.Line2D at 0x1316c99c388>]"
      ]
     },
     "execution_count": 51,
     "metadata": {},
     "output_type": "execute_result"
    },
    {
     "data": {
      "image/png": "[encoded data removed]",
      "text/plain": [
       "<Figure size 432x288 with 1 Axes>"
      ]
     },
     "metadata": {
      "needs_background": "light"
     },
     "output_type": "display_data"
    }
   ],
   "source": [
    "axs = pl.axes()\n",
    "axs.axis ('equal')\n",
    "axs.xaxis.set_major_locator (tk.MultipleLocator (1.0))\n",
    "axs.yaxis.set_major_locator (tk.MultipleLocator (1.0))\n",
    "axs.grid()\n",
    "\n",
    "S = sch(sx, sy)\n",
    "Q = S @ P\n",
    "print(f'Scherungsmatrix:\\n{S}')\n",
    "print(f'Q = S*P:\\n{Q}')\n",
    "pl.plot (P [0, :], P [1, :], 'blue')\n",
    "pl.plot (Q [0, :], Q [1, :], 'magenta')"
   ]
  }
 ],
 "metadata": {
  "kernelspec": {
   "display_name": "Python 3.7.9 ('.venv': venv)",
   "language": "python",
   "name": "python3"
  },
  "language_info": {
   "codemirror_mode": {
    "name": "ipython",
    "version": 3
   },
   "file_extension": ".py",
   "mimetype": "text/x-python",
   "name": "python",
   "nbconvert_exporter": "python",
   "pygments_lexer": "ipython3",
   "version": "3.7.9"
  },
  "orig_nbformat": 4,
  "vscode": {
   "interpreter": {
    "hash": "56aea455e691ac98f863ca58aca37ee31c5c13a4edf93477d1a9363b4823949b"
   }
  }
 },
 "nbformat": 4,
 "nbformat_minor": 2
}
