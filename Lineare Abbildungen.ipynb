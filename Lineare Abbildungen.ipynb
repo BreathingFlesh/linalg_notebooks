{
 "cells": [
  {
   "cell_type": "code",
   "execution_count": 276,
   "metadata": {},
   "outputs": [],
   "source": [
    "import numpy as np\n",
    "from numpy import linalg as la\n",
    "import matplotlib.pyplot as pl\n",
    "import matplotlib.ticker as tk"
   ]
  },
  {
   "cell_type": "code",
   "execution_count": 277,
   "metadata": {},
   "outputs": [
    {
     "name": "stdout",
     "output_type": "stream",
     "text": [
      "[[1 2 2 3 3 2 2 4 4 1 1]\n",
      " [1 1 2 2 3 3 4 4 5 5 1]\n",
      " [1 1 1 1 1 1 1 1 1 1 1]]\n"
     ]
    }
   ],
   "source": [
    "# Abbildung definieren (letzte Zeile muss mit 1 aufgefüllt werden)\n",
    "P = np.array ([\n",
    "    [1, 2, 2, 3, 3, 2, 2, 4, 4, 1, 1],\n",
    "    [1, 1, 2, 2, 3, 3, 4, 4, 5, 5, 1],\n",
    "    [1, 1, 1, 1, 1, 1, 1, 1, 1, 1, 1]\n",
    "])\n",
    "print (P)\n",
    "\n",
    "# Rotationswinkel (im Gradmass)\n",
    "rot = 30\n",
    "\n",
    "# Translation oder Rotationszentrum (0, 0 für Standard)\n",
    "tl_x = 2\n",
    "tl_y = 3\n",
    "\n",
    "# Skalierung\n",
    "s = 2 # Skalierungsfaktor\n",
    "\n",
    "# Drehstreckung\n",
    "ds = 1 # Kann für \"nach vorne lehnen\" auch negativ sein\n",
    "\n",
    "# Drehstreckung mit Winkel\n",
    "dss = 2 # Skalierungsfaktor der Drehstreckung\n",
    "dw = 30 # Drehwinkel\n",
    "\n",
    "# Achsenspiegelung horizontal/vertikal\n",
    "h = False\n",
    "v = True\n",
    "\n",
    "# Achsenspiegelung mit Winkel\n",
    "aw = 45 # Winkel der Spiegelachse\n",
    "\n",
    "# Scherung\n",
    "sx = 1\n",
    "sy = 2"
   ]
  },
  {
   "cell_type": "markdown",
   "metadata": {},
   "source": [
    "### Definition Methoden"
   ]
  },
  {
   "cell_type": "code",
   "execution_count": 278,
   "metadata": {},
   "outputs": [],
   "source": [
    "# Translation\n",
    "def tl(u,v):\n",
    "    return np.array([\n",
    "        [1,0,u],\n",
    "        [0,1,v],\n",
    "        [0,0,1]\n",
    "    ])\n",
    "\n",
    "# Rotation\n",
    "def rt(phi):\n",
    "    t = phi * np.pi / 180 # Vom Grad- ins Bogenmass\n",
    "    c = np.cos(t)\n",
    "    s = np.sin(t)\n",
    "    return np.array([\n",
    "        [c, -s, 0],\n",
    "        [s,  c, 0],\n",
    "        [0,  0, 1]\n",
    "    ])\n",
    "\n",
    "# Skalierung\n",
    "def sk(s):\n",
    "    return np.array([\n",
    "        [s ,0, 0],\n",
    "        [0 ,s, 0],\n",
    "        [0, 0, s]\n",
    "    ])\n",
    "\n",
    "# Drehstreckung\n",
    "def drst(ds):\n",
    "    return np.array([\n",
    "        [1  , -ds, 0],\n",
    "        [ds, 1 , 0],\n",
    "        [0  , 0 , 1]\n",
    "    ])\n",
    "\n",
    "# Drehstreckung mit Winkel\n",
    "def drstw(ds, dw):\n",
    "    t = dw * np.pi / 180 # Vom Grad- ins Bogenmass\n",
    "    c = ds * np.cos(t)\n",
    "    s = ds * np.sin(t)\n",
    "    return np.array([\n",
    "        [c , -s, 0],\n",
    "        [s , c , 0],\n",
    "        [0 , 0 , 1]\n",
    "    ])\n",
    "\n",
    "# Achsenspiegelung\n",
    "def acs(h, v):\n",
    "    h = 1-2*h\n",
    "    v = 1-2*v\n",
    "\n",
    "    return np.array([\n",
    "        [v, 0, 0],\n",
    "        [0, h ,0],\n",
    "        [0, 0 ,0]\n",
    "    ])\n",
    "\n",
    "# Achsenspiegelung mit Winkel\n",
    "def acw(aw):\n",
    "    t = aw * np.pi / 180 # Vom Grad- ins Bogenmass\n",
    "    c = np.cos(2 * t)\n",
    "    s = np.sin(2 * t)\n",
    "    return np.array([\n",
    "        [c , s, 0],\n",
    "        [s , -c , 0],\n",
    "        [0 , 0 , 1]\n",
    "    ])\n",
    "\n",
    "# Scherung\n",
    "def sch(sx, sy):\n",
    "    return np.array([\n",
    "        [1 , sx, 0],\n",
    "        [sy, 1 , 0],\n",
    "        [0 , 0 , 1]\n",
    "    ])"
   ]
  },
  {
   "cell_type": "markdown",
   "metadata": {},
   "source": [
    "### Plot Rotation"
   ]
  },
  {
   "cell_type": "code",
   "execution_count": 279,
   "metadata": {},
   "outputs": [
    {
     "data": {
      "text/plain": [
       "[<matplotlib.lines.Line2D at 0x1c8f59a0048>]"
      ]
     },
     "execution_count": 279,
     "metadata": {},
     "output_type": "execute_result"
    },
    {
     "data": {
      "image/png": "[encoded data removed]",
      "text/plain": [
       "<Figure size 432x288 with 1 Axes>"
      ]
     },
     "metadata": {
      "needs_background": "light"
     },
     "output_type": "display_data"
    }
   ],
   "source": [
    "axs = pl.axes()\n",
    "axs.axis ('equal')\n",
    "axs.xaxis.set_major_locator (tk.MultipleLocator (1.0))\n",
    "axs.yaxis.set_major_locator (tk.MultipleLocator (1.0))\n",
    "axs.grid()\n",
    "\n",
    "T = tl(tl_x, tl_y)\n",
    "R = rt(rot)\n",
    "Q = T @ R @ la.inv(T) @ P # Zuerst verschieben, dann um den 0 Punkt rotieren und wieder zurück verschieben (inverse der Translationsmatrix)\n",
    "pl.plot (P [0, :], P [1, :], 'blue')\n",
    "pl.plot (Q [0, :], Q [1, :], 'magenta')"
   ]
  },
  {
   "cell_type": "markdown",
   "metadata": {},
   "source": [
    "### Plot Translation"
   ]
  },
  {
   "cell_type": "code",
   "execution_count": 280,
   "metadata": {},
   "outputs": [
    {
     "name": "stdout",
     "output_type": "stream",
     "text": [
      "[[1 2 2 3 3 2 2 4 4 1 1]\n",
      " [1 1 2 2 3 3 4 4 5 5 1]\n",
      " [1 1 1 1 1 1 1 1 1 1 1]]\n",
      "[[3 4 4 5 5 4 4 6 6 3 3]\n",
      " [4 4 5 5 6 6 7 7 8 8 4]\n",
      " [1 1 1 1 1 1 1 1 1 1 1]]\n"
     ]
    },
    {
     "data": {
      "text/plain": [
       "[<matplotlib.lines.Line2D at 0x1c8f5a6f748>]"
      ]
     },
     "execution_count": 280,
     "metadata": {},
     "output_type": "execute_result"
    },
    {
     "data": {
      "image/png": "[encoded data removed]",
      "text/plain": [
       "<Figure size 432x288 with 1 Axes>"
      ]
     },
     "metadata": {
      "needs_background": "light"
     },
     "output_type": "display_data"
    }
   ],
   "source": [
    "axs = pl.axes()\n",
    "axs.axis ('equal')\n",
    "axs.xaxis.set_major_locator (tk.MultipleLocator (1.0))\n",
    "axs.yaxis.set_major_locator (tk.MultipleLocator (1.0))\n",
    "axs.grid()\n",
    "\n",
    "T = tl(tl_x, tl_y)\n",
    "Q = T @ P\n",
    "print(P)\n",
    "print(Q)\n",
    "pl.plot (P [0, :], P [1, :], 'blue')\n",
    "pl.plot (Q [0, :], Q [1, :], 'magenta')"
   ]
  },
  {
   "cell_type": "markdown",
   "metadata": {},
   "source": [
    "### Plot Skalierung"
   ]
  },
  {
   "cell_type": "code",
   "execution_count": 281,
   "metadata": {},
   "outputs": [
    {
     "data": {
      "text/plain": [
       "[<matplotlib.lines.Line2D at 0x1c8f5b11848>]"
      ]
     },
     "execution_count": 281,
     "metadata": {},
     "output_type": "execute_result"
    },
    {
     "data": {
      "image/png": "[encoded data removed]",
      "text/plain": [
       "<Figure size 432x288 with 1 Axes>"
      ]
     },
     "metadata": {
      "needs_background": "light"
     },
     "output_type": "display_data"
    }
   ],
   "source": [
    "axs = pl.axes()\n",
    "axs.axis ('equal')\n",
    "axs.xaxis.set_major_locator (tk.MultipleLocator (1.0))\n",
    "axs.yaxis.set_major_locator (tk.MultipleLocator (1.0))\n",
    "axs.grid()\n",
    "\n",
    "S = sk(s)\n",
    "Q = S @ P\n",
    "pl.plot (P [0, :], P [1, :], 'blue')\n",
    "pl.plot (Q [0, :], Q [1, :], 'magenta')"
   ]
  },
  {
   "cell_type": "markdown",
   "metadata": {},
   "source": [
    "### Plot Drehstreckung"
   ]
  },
  {
   "cell_type": "code",
   "execution_count": 282,
   "metadata": {},
   "outputs": [
    {
     "data": {
      "text/plain": [
       "[<matplotlib.lines.Line2D at 0x1c8f5bcd088>]"
      ]
     },
     "execution_count": 282,
     "metadata": {},
     "output_type": "execute_result"
    },
    {
     "data": {
      "image/png": "[encoded data removed]",
      "text/plain": [
       "<Figure size 432x288 with 1 Axes>"
      ]
     },
     "metadata": {
      "needs_background": "light"
     },
     "output_type": "display_data"
    }
   ],
   "source": [
    "axs = pl.axes()\n",
    "axs.axis ('equal')\n",
    "axs.xaxis.set_major_locator (tk.MultipleLocator (1.0))\n",
    "axs.yaxis.set_major_locator (tk.MultipleLocator (1.0))\n",
    "axs.grid()\n",
    "\n",
    "D = drst(ds)\n",
    "Q = D @ P\n",
    "pl.plot (P [0, :], P [1, :], 'blue')\n",
    "pl.plot (Q [0, :], Q [1, :], 'magenta')"
   ]
  },
  {
   "cell_type": "markdown",
   "metadata": {},
   "source": [
    "### Drehstreckung mit Winkel"
   ]
  },
  {
   "cell_type": "code",
   "execution_count": 283,
   "metadata": {},
   "outputs": [
    {
     "data": {
      "text/plain": [
       "[<matplotlib.lines.Line2D at 0x1c8f5c68b88>]"
      ]
     },
     "execution_count": 283,
     "metadata": {},
     "output_type": "execute_result"
    },
    {
     "data": {
      "image/png": "[encoded data removed]",
      "text/plain": [
       "<Figure size 432x288 with 1 Axes>"
      ]
     },
     "metadata": {
      "needs_background": "light"
     },
     "output_type": "display_data"
    }
   ],
   "source": [
    "axs = pl.axes()\n",
    "axs.axis ('equal')\n",
    "axs.xaxis.set_major_locator (tk.MultipleLocator (1.0))\n",
    "axs.yaxis.set_major_locator (tk.MultipleLocator (1.0))\n",
    "axs.grid()\n",
    "\n",
    "D = drstw(dss,dw)\n",
    "Q = D @ P\n",
    "pl.plot (P [0, :], P [1, :], 'blue')\n",
    "pl.plot (Q [0, :], Q [1, :], 'magenta')"
   ]
  },
  {
   "cell_type": "markdown",
   "metadata": {},
   "source": [
    "### Achsenspiegelung"
   ]
  },
  {
   "cell_type": "code",
   "execution_count": 284,
   "metadata": {},
   "outputs": [
    {
     "data": {
      "text/plain": [
       "[<matplotlib.lines.Line2D at 0x1c8f5d40988>]"
      ]
     },
     "execution_count": 284,
     "metadata": {},
     "output_type": "execute_result"
    },
    {
     "data": {
      "image/png": "[encoded data removed]",
      "text/plain": [
       "<Figure size 432x288 with 1 Axes>"
      ]
     },
     "metadata": {
      "needs_background": "light"
     },
     "output_type": "display_data"
    }
   ],
   "source": [
    "axs = pl.axes()\n",
    "axs.axis ('equal')\n",
    "axs.xaxis.set_major_locator (tk.MultipleLocator (1.0))\n",
    "axs.yaxis.set_major_locator (tk.MultipleLocator (1.0))\n",
    "axs.grid()\n",
    "\n",
    "A = acs(h,v)\n",
    "Q = A @ P\n",
    "pl.plot (P [0, :], P [1, :], 'blue')\n",
    "pl.plot (Q [0, :], Q [1, :], 'magenta')"
   ]
  },
  {
   "cell_type": "markdown",
   "metadata": {},
   "source": [
    "### Achsenspiegelung mit Winkel"
   ]
  },
  {
   "cell_type": "code",
   "execution_count": 285,
   "metadata": {},
   "outputs": [
    {
     "data": {
      "text/plain": [
       "[<matplotlib.lines.Line2D at 0x1c8f5dce348>]"
      ]
     },
     "execution_count": 285,
     "metadata": {},
     "output_type": "execute_result"
    },
    {
     "data": {
      "image/png": "[encoded data removed]",
      "text/plain": [
       "<Figure size 432x288 with 1 Axes>"
      ]
     },
     "metadata": {
      "needs_background": "light"
     },
     "output_type": "display_data"
    }
   ],
   "source": [
    "axs = pl.axes()\n",
    "axs.axis ('equal')\n",
    "axs.xaxis.set_major_locator (tk.MultipleLocator (1.0))\n",
    "axs.yaxis.set_major_locator (tk.MultipleLocator (1.0))\n",
    "axs.grid()\n",
    "\n",
    "A = acw(aw)\n",
    "Q = A @ P\n",
    "pl.plot (P [0, :], P [1, :], 'blue')\n",
    "pl.plot (Q [0, :], Q [1, :], 'magenta')"
   ]
  },
  {
   "cell_type": "markdown",
   "metadata": {},
   "source": [
    "### Scherung"
   ]
  },
  {
   "cell_type": "code",
   "execution_count": 286,
   "metadata": {},
   "outputs": [
    {
     "data": {
      "text/plain": [
       "[<matplotlib.lines.Line2D at 0x1c8f5e47908>]"
      ]
     },
     "execution_count": 286,
     "metadata": {},
     "output_type": "execute_result"
    },
    {
     "data": {
      "image/png": "[encoded data removed]",
      "text/plain": [
       "<Figure size 432x288 with 1 Axes>"
      ]
     },
     "metadata": {
      "needs_background": "light"
     },
     "output_type": "display_data"
    }
   ],
   "source": [
    "axs = pl.axes()\n",
    "axs.axis ('equal')\n",
    "axs.xaxis.set_major_locator (tk.MultipleLocator (1.0))\n",
    "axs.yaxis.set_major_locator (tk.MultipleLocator (1.0))\n",
    "axs.grid()\n",
    "\n",
    "S = sch(sx, sy)\n",
    "Q = S @ P\n",
    "pl.plot (P [0, :], P [1, :], 'blue')\n",
    "pl.plot (Q [0, :], Q [1, :], 'magenta')"
   ]
  }
 ],
 "metadata": {
  "kernelspec": {
   "display_name": "Python 3.7.9 ('.venv': venv)",
   "language": "python",
   "name": "python3"
  },
  "language_info": {
   "codemirror_mode": {
    "name": "ipython",
    "version": 3
   },
   "file_extension": ".py",
   "mimetype": "text/x-python",
   "name": "python",
   "nbconvert_exporter": "python",
   "pygments_lexer": "ipython3",
   "version": "3.7.9"
  },
  "orig_nbformat": 4,
  "vscode": {
   "interpreter": {
    "hash": "7edcbfe135b51ba319aae3c13f809501930ebc61c1ac695c09ff7a28b5bf6268"
   }
  }
 },
 "nbformat": 4,
 "nbformat_minor": 2
}
