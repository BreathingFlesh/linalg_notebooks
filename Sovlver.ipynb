{
 "cells": [
  {
   "cell_type": "code",
   "execution_count": 39,
   "metadata": {},
   "outputs": [],
   "source": [
    "import numpy as np\n",
    "import numpy.linalg as la"
   ]
  },
  {
   "cell_type": "code",
   "execution_count": 40,
   "metadata": {},
   "outputs": [],
   "source": [
    "# Matrix definieren\n",
    "A = np.array([\n",
    "    [2, 1],\n",
    "    [3, 1],\n",
    "    [2, 1]\n",
    "])\n",
    "# Lösungsvektor definieren\n",
    "b = np.array(\n",
    "    [7, 9, 7]\n",
    ")"
   ]
  },
  {
   "cell_type": "markdown",
   "metadata": {},
   "source": [
    "### Lösung"
   ]
  },
  {
   "cell_type": "code",
   "execution_count": 47,
   "metadata": {},
   "outputs": [
    {
     "name": "stdout",
     "output_type": "stream",
     "text": [
      "Eindeutig lösbar.\n",
      "\n",
      "x0: 2.0\n",
      "x1: 3.0\n",
      "Rang der Matrix A: 2\n"
     ]
    }
   ],
   "source": [
    "if A.shape[0] == A.shape[1]:\n",
    "    x = la.solve(A, b)\n",
    "    for i, sol in enumerate(x):\n",
    "        print(f'x{i}: {sol}, Gerundet: {round(sol, 2)}')\n",
    "else:\n",
    "    x = la.lstsq(A, b, rcond=None)\n",
    "    if np.around(x[1], 2) != 0:\n",
    "        print('Nicht eindeutig lösbar, nur Annäherung.\\n')\n",
    "    else:\n",
    "        print('Eindeutig lösbar.\\n')\n",
    "    for i, s in enumerate(x[0]):\n",
    "        print(f'x{i}: {round(s, 4)}')\n",
    "    print(f'Rang der Matrix A: {x[2]}')"
   ]
  }
 ],
 "metadata": {
  "kernelspec": {
   "display_name": "Python 3.7.9 ('.venv': venv)",
   "language": "python",
   "name": "python3"
  },
  "language_info": {
   "codemirror_mode": {
    "name": "ipython",
    "version": 3
   },
   "file_extension": ".py",
   "mimetype": "text/x-python",
   "name": "python",
   "nbconvert_exporter": "python",
   "pygments_lexer": "ipython3",
   "version": "3.7.9"
  },
  "orig_nbformat": 4,
  "vscode": {
   "interpreter": {
    "hash": "56aea455e691ac98f863ca58aca37ee31c5c13a4edf93477d1a9363b4823949b"
   }
  }
 },
 "nbformat": 4,
 "nbformat_minor": 2
}
