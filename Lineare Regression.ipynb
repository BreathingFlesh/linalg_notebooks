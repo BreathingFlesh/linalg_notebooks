{
 "cells": [
  {
   "cell_type": "code",
   "execution_count": 1,
   "metadata": {},
   "outputs": [],
   "source": [
    "import numpy as np\n",
    "from numpy import linalg as la\n",
    "import matplotlib.pyplot as plt"
   ]
  },
  {
   "cell_type": "code",
   "execution_count": 2,
   "metadata": {},
   "outputs": [],
   "source": [
    "# Matrix X (alle Werte, ohne 1-er Spalte, ohne y-Werte)\n",
    "X_u = np.array([\n",
    "    [1, 1],\n",
    "    [2, 1],\n",
    "    [2 ,2],\n",
    "    [1, 2]\n",
    "])\n",
    "\n",
    "# Lösungsvektor, alle y-Werte\n",
    "y = np.array(\n",
    "    [1, 2, 3, 3]\n",
    ")"
   ]
  },
  {
   "cell_type": "code",
   "execution_count": 3,
   "metadata": {},
   "outputs": [
    {
     "name": "stdout",
     "output_type": "stream",
     "text": [
      "b = [ 0.5   1.5  -0.75]\n",
      "y = x0*0.5 + x1*1.5 + -0.75\n"
     ]
    }
   ],
   "source": [
    "# Add column of 1 for Constant\n",
    "X = np.c_[X_u, np.ones(X_u.shape[0])]\n",
    "\n",
    "# Calculate b hat\n",
    "b_hat = la.inv(X.T@X)@X.T@y\n",
    "# Rounding\n",
    "b_hat_r = np.around(b_hat, 2)\n",
    "\n",
    "print(f'b = {b_hat_r}')\n",
    "s = \"y = \"\n",
    "for i, b in enumerate(b_hat_r):\n",
    "    if i+1 != len(b_hat_r):\n",
    "        s = s + f'x{i}*{b} + '\n",
    "    else: \n",
    "        s = s + str(b)\n",
    "print(s)"
   ]
  },
  {
   "cell_type": "code",
   "execution_count": 4,
   "metadata": {},
   "outputs": [
    {
     "name": "stdout",
     "output_type": "stream",
     "text": [
      "[1 2 2 1]\n"
     ]
    }
   ],
   "source": [
    "X_1 = X_u[:, 0]\n",
    "print(X_1)\n",
    "\n",
    "if X_u.shape[1] == 1:\n",
    "    coef = np.polyfit(X_1,y,1)\n",
    "    poly1d_fn = np.poly1d(coef) \n",
    "    # poly1d_fn is now a function which takes in x and returns an estimate for y\n",
    "\n",
    "    plt.plot(X_1,y, 'yo', X_1, poly1d_fn(X_1), '--k') #'--k'=black dashed line, 'yo' = yellow circle marker\n",
    "\n",
    "    plt.xlim(0, 5)\n",
    "    plt.ylim(0, 12)"
   ]
  }
 ],
 "metadata": {
  "kernelspec": {
   "display_name": "Python 3.7.9 ('.venv': venv)",
   "language": "python",
   "name": "python3"
  },
  "language_info": {
   "codemirror_mode": {
    "name": "ipython",
    "version": 3
   },
   "file_extension": ".py",
   "mimetype": "text/x-python",
   "name": "python",
   "nbconvert_exporter": "python",
   "pygments_lexer": "ipython3",
   "version": "3.7.9"
  },
  "orig_nbformat": 4,
  "vscode": {
   "interpreter": {
    "hash": "7edcbfe135b51ba319aae3c13f809501930ebc61c1ac695c09ff7a28b5bf6268"
   }
  }
 },
 "nbformat": 4,
 "nbformat_minor": 2
}
