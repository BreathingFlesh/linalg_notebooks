{
 "cells": [
  {
   "cell_type": "code",
   "execution_count": 96,
   "metadata": {},
   "outputs": [],
   "source": [
    "import numpy as np\n",
    "from numpy import linalg as la\n",
    "import matplotlib.pyplot as plt\n",
    "import fractions\n",
    "\n",
    "\n",
    "# Uncomment for fractions\n",
    "# np.set_printoptions(formatter={'all':lambda x: str(fractions.Fraction(x).limit_denominator())}) \n",
    "\n",
    "# Uncomment for decimals\n",
    "np.set_printoptions(formatter={})"
   ]
  },
  {
   "cell_type": "code",
   "execution_count": 97,
   "metadata": {},
   "outputs": [],
   "source": [
    "# Matrix X (alle Werte, ohne 1-er Spalte, ohne y-Werte)\n",
    "X_u = np.array([\n",
    "    [0],\n",
    "    [1],\n",
    "    [2]\n",
    "])\n",
    "\n",
    "# Lösungsvektor, alle y-Werte\n",
    "y = np.array(\n",
    "    [1, 1, 3]\n",
    ")"
   ]
  },
  {
   "cell_type": "code",
   "execution_count": 98,
   "metadata": {},
   "outputs": [
    {
     "name": "stdout",
     "output_type": "stream",
     "text": [
      "X^T * X =\n",
      "[[5. 3.]\n",
      " [3. 3.]]\n",
      "P =\n",
      "[[ 0.83333333  0.33333333 -0.16666667]\n",
      " [ 0.33333333  0.33333333  0.33333333]\n",
      " [-0.16666667  0.33333333  0.83333333]]\n",
      "P gerundet =\n",
      "[[ 0.8333  0.3333 -0.1667]\n",
      " [ 0.3333  0.3333  0.3333]\n",
      " [-0.1667  0.3333  0.8333]]\n",
      "Q =\n",
      "[[ 0.16666667 -0.33333333  0.16666667]\n",
      " [-0.33333333  0.66666667 -0.33333333]\n",
      " [ 0.16666667 -0.33333333  0.16666667]]\n",
      "Q gerundet =\n",
      "[[ 0.1667 -0.3333  0.1667]\n",
      " [-0.3333  0.6667 -0.3333]\n",
      " [ 0.1667 -0.3333  0.1667]]\n",
      "b = [1.   0.67]\n",
      "y = x0*1.0 + 0.67\n"
     ]
    }
   ],
   "source": [
    "# Add column of 1 for Constant\n",
    "X = np.c_[X_u, np.ones(X_u.shape[0])]\n",
    "\n",
    "# X^T*X, P & Q\n",
    "print(f'X^T * X =\\n{X.T@X}')\n",
    "P = X@la.inv((X.T@X))@X.T\n",
    "print(f'P =\\n{P}')\n",
    "print(f'P gerundet =\\n{np.around(P, 4)}')\n",
    "print(f'Q =\\n{np.eye(len(X))-P}')\n",
    "print(f'Q gerundet =\\n{np.around(np.eye(len(X))-P, 4)}')\n",
    "\n",
    "# Calculate b hat\n",
    "b_hat = la.inv(X.T@X)@X.T@y\n",
    "# Rounding\n",
    "b_hat_r = np.around(b_hat, 2)\n",
    "\n",
    "print(f'b = {b_hat_r}')\n",
    "s = \"y = \"\n",
    "for i, b in enumerate(b_hat_r):\n",
    "    if i+1 != len(b_hat_r):\n",
    "        s = s + f'x{i}*{b} + '\n",
    "    else: \n",
    "        s = s + str(b)\n",
    "print(s)"
   ]
  },
  {
   "cell_type": "code",
   "execution_count": 99,
   "metadata": {},
   "outputs": [
    {
     "data": {
      "image/png": "[encoded data removed]",
      "text/plain": [
       "<Figure size 432x288 with 1 Axes>"
      ]
     },
     "metadata": {
      "needs_background": "light"
     },
     "output_type": "display_data"
    }
   ],
   "source": [
    "X_1 = X_u[:, 0]\n",
    "\n",
    "if X_u.shape[1] == 1:\n",
    "    coef = np.polyfit(X_1,y,1)\n",
    "    poly1d_fn = np.poly1d(coef) \n",
    "    # poly1d_fn is now a function which takes in x and returns an estimate for y\n",
    "\n",
    "    plt.plot(X_1,y, 'yo', X_1, poly1d_fn(X_1), '--k') #'--k'=black dashed line, 'yo' = yellow circle marker\n",
    "\n",
    "    plt.xlim(0, 5)\n",
    "    plt.ylim(0, 12)"
   ]
  }
 ],
 "metadata": {
  "kernelspec": {
   "display_name": "Python 3.7.9 ('.venv': venv)",
   "language": "python",
   "name": "python3"
  },
  "language_info": {
   "codemirror_mode": {
    "name": "ipython",
    "version": 3
   },
   "file_extension": ".py",
   "mimetype": "text/x-python",
   "name": "python",
   "nbconvert_exporter": "python",
   "pygments_lexer": "ipython3",
   "version": "3.7.9"
  },
  "orig_nbformat": 4,
  "vscode": {
   "interpreter": {
    "hash": "56aea455e691ac98f863ca58aca37ee31c5c13a4edf93477d1a9363b4823949b"
   }
  }
 },
 "nbformat": 4,
 "nbformat_minor": 2
}
