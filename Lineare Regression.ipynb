{
 "cells": [
  {
   "cell_type": "code",
   "execution_count": 21,
   "metadata": {},
   "outputs": [],
   "source": [
    "import numpy as np\n",
    "from numpy import linalg as la\n",
    "import matplotlib.pyplot as plt\n",
    "import fractions\n",
    "\n",
    "\n",
    "# Uncomment for fractions\n",
    "# np.set_printoptions(formatter={'all':lambda x: str(fractions.Fraction(x).limit_denominator())}) \n",
    "\n",
    "# Uncomment for decimals\n",
    "np.set_printoptions(formatter={})"
   ]
  },
  {
   "cell_type": "code",
   "execution_count": 22,
   "metadata": {},
   "outputs": [],
   "source": [
    "# Matrix X (alle Werte, ohne 1-er Spalte, ohne y-Werte)\n",
    "X_u = np.array([\n",
    "    [0],\n",
    "    [1],\n",
    "    [2]\n",
    "])\n",
    "\n",
    "# Lösungsvektor, alle y-Werte\n",
    "y = np.array(\n",
    "    [1, 1, 3]\n",
    ")"
   ]
  },
  {
   "cell_type": "code",
   "execution_count": 23,
   "metadata": {},
   "outputs": [
    {
     "name": "stdout",
     "output_type": "stream",
     "text": [
      "X^T * X:\n",
      "[[5. 3.]\n",
      " [3. 3.]]\n",
      "\n",
      "Projektionsmatrix P:\n",
      "[[ 0.8333  0.3333 -0.1667]\n",
      " [ 0.3333  0.3333  0.3333]\n",
      " [-0.1667  0.3333  0.8333]]\n",
      "\n",
      "Residualmatrix Q:\n",
      "[[ 0.1667 -0.3333  0.1667]\n",
      " [-0.3333  0.6667 -0.3333]\n",
      " [ 0.1667 -0.3333  0.1667]]\n"
     ]
    }
   ],
   "source": [
    "# Add column of 1 for Constant\n",
    "X = np.c_[X_u, np.ones(X_u.shape[0])]\n",
    "\n",
    "# X^T*X, P & Q\n",
    "print(f'X^T * X:\\n{X.T@X}')\n",
    "P = X@la.inv((X.T@X))@X.T\n",
    "print(f'\\nProjektionsmatrix P:\\n{np.around(P, 4)}')\n",
    "print(f'\\nResidualmatrix Q:\\n{np.around(np.eye(len(X))-P, 4)}')"
   ]
  },
  {
   "cell_type": "code",
   "execution_count": 24,
   "metadata": {},
   "outputs": [
    {
     "name": "stdout",
     "output_type": "stream",
     "text": [
      "\n",
      "b_hat: [1.         0.66666667]\n",
      "b_hat gerundet: [1.     0.6667]\n",
      "\n",
      "y_hat: [0.66666667 1.66666667 2.66666667]\n",
      "y_hat gerundet: [0.6667 1.6667 2.6667]\n",
      "\n",
      "e: [ 0.33333333 -0.66666667  0.33333333]\n",
      "e gerundet: [ 0.3333 -0.6667  0.3333]\n",
      "\n",
      "Funktion = x0*1.0 + 0.6667\n",
      "\n",
      "SQT: 2.666666666666667, gerundet: 2.6667\n",
      "SQE: 2.000000000000002, gerundet: 2.0\n",
      "SQR: 0.6666666666666665, gerundet: 0.6667\n",
      "R^2: 0.7500000000000008, gerundet: 0.75\n"
     ]
    }
   ],
   "source": [
    "# Calculate b hat\n",
    "b_hat = la.inv(X.T@X)@X.T@y\n",
    "# Rounding\n",
    "b_hat_r = np.around(b_hat, 4)\n",
    "\n",
    "print(f'\\nb_hat: {b_hat}\\nb_hat gerundet: {b_hat_r}')\n",
    "y_hat = X@b_hat\n",
    "print(f'\\ny_hat: {y_hat}\\ny_hat gerundet: {np.around(y_hat, 4)}')\n",
    "e = y - y_hat\n",
    "print(f'\\ne: {e}\\ne gerundet: {np.around(e, 4)}')\n",
    "s = \"\\nFunktion = \"\n",
    "for i, b in enumerate(b_hat_r):\n",
    "    if i+1 != len(b_hat_r):\n",
    "        s = s + f'x{i}*{b} + '\n",
    "    else: \n",
    "        s = s + str(b)\n",
    "print(s)\n",
    "\n",
    "# Calculate R^2\n",
    "y_ = np.average(y)\n",
    "sqt = (y - y_).T@(y - y_)\n",
    "sqe = (y_hat - y_).T@(y_hat - y_)\n",
    "sqr = (y - y_hat).T@(y - y_hat)\n",
    "r2 = sqe/sqt\n",
    "\n",
    "print(f'\\nSQT: {sqt}, gerundet: {round(sqt, 4)}')\n",
    "print(f'SQE: {sqe}, gerundet: {round(sqe, 4)}')\n",
    "print(f'SQR: {sqr}, gerundet: {round(sqr, 4)}')\n",
    "print(f'R^2: {r2}, gerundet: {round(r2, 4)}')\n",
    "\n"
   ]
  },
  {
   "cell_type": "code",
   "execution_count": 25,
   "metadata": {},
   "outputs": [
    {
     "data": {
      "image/png": "[encoded data removed]",
      "text/plain": [
       "<Figure size 432x288 with 1 Axes>"
      ]
     },
     "metadata": {
      "needs_background": "light"
     },
     "output_type": "display_data"
    }
   ],
   "source": [
    "X_1 = X_u[:, 0]\n",
    "\n",
    "if X_u.shape[1] == 1:\n",
    "    coef = np.polyfit(X_1,y,1)\n",
    "    poly1d_fn = np.poly1d(coef) \n",
    "    # poly1d_fn is now a function which takes in x and returns an estimate for y\n",
    "\n",
    "    plt.plot(X_1,y, 'yo', X_1, poly1d_fn(X_1), '--k') #'--k'=black dashed line, 'yo' = yellow circle marker\n",
    "\n",
    "    plt.xlim(-1, 5)\n",
    "    plt.ylim(-1, 4)"
   ]
  }
 ],
 "metadata": {
  "kernelspec": {
   "display_name": "Python 3.7.9 ('.venv': venv)",
   "language": "python",
   "name": "python3"
  },
  "language_info": {
   "codemirror_mode": {
    "name": "ipython",
    "version": 3
   },
   "file_extension": ".py",
   "mimetype": "text/x-python",
   "name": "python",
   "nbconvert_exporter": "python",
   "pygments_lexer": "ipython3",
   "version": "3.7.9"
  },
  "orig_nbformat": 4,
  "vscode": {
   "interpreter": {
    "hash": "56aea455e691ac98f863ca58aca37ee31c5c13a4edf93477d1a9363b4823949b"
   }
  }
 },
 "nbformat": 4,
 "nbformat_minor": 2
}
