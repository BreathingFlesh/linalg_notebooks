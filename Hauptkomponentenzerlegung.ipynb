{
 "cells": [
  {
   "cell_type": "code",
   "execution_count": 4,
   "metadata": {},
   "outputs": [],
   "source": [
    "import numpy as np\n",
    "import numpy.linalg as la"
   ]
  },
  {
   "cell_type": "code",
   "execution_count": 5,
   "metadata": {},
   "outputs": [],
   "source": [
    "# Definition von X tilde\n",
    "X_tilde = np.array([\n",
    "    [1, 1],\n",
    "    [3, 2],\n",
    "    [4, 4],\n",
    "    [6, 7]\n",
    "])"
   ]
  },
  {
   "cell_type": "markdown",
   "metadata": {},
   "source": [
    "### Hauptkomponentenzerlegung"
   ]
  },
  {
   "cell_type": "code",
   "execution_count": 6,
   "metadata": {},
   "outputs": [
    {
     "name": "stdout",
     "output_type": "stream",
     "text": [
      "Zentrierende Matrix M =\n",
      "[[ 0.75 -0.25 -0.25 -0.25]\n",
      " [-0.25  0.75 -0.25 -0.25]\n",
      " [-0.25 -0.25  0.75 -0.25]\n",
      " [-0.25 -0.25 -0.25  0.75]]\n",
      "\n",
      "Zentrierte Datenmatrix X =\n",
      " [[-2.5 -2.5]\n",
      " [-0.5 -1.5]\n",
      " [ 0.5  0.5]\n",
      " [ 2.5  3.5]]\n",
      "\n",
      "Kovarianzmatrix C =\n",
      " [[4.33333333 5.33333333]\n",
      " [5.33333333 7.        ]]\n",
      "\n",
      "Hauptachsen:\n",
      "v1:[-0.78820544  0.61541221], Gerundet: [-0.7882  0.6154]\n",
      "v2:[-0.61541221 -0.78820544], Gerundet: [-0.6154 -0.7882]\n"
     ]
    }
   ],
   "source": [
    "m = X_tilde.shape[0]\n",
    "M = np.eye(m) - np.ones(m)/m\n",
    "print(f'Zentrierende Matrix M =\\n{M}')\n",
    "\n",
    "X = M@X_tilde\n",
    "print(f'\\nZentrierte Datenmatrix X =\\n {X}')\n",
    "\n",
    "C = X.T@X/(m-1)\n",
    "print(f'\\nKovarianzmatrix C =\\n {C}')\n",
    "\n",
    "HA = la.eig(C)[1]\n",
    "print('\\nHauptachsen:')\n",
    "print(f'v1:{HA.T[0]}, Gerundet: {np.around(HA.T[0], 4)}')\n",
    "print(f'v2:{HA.T[1]}, Gerundet: {np.around(HA.T[1], 4)}')"
   ]
  }
 ],
 "metadata": {
  "kernelspec": {
   "display_name": "Python 3.7.9 ('.venv': venv)",
   "language": "python",
   "name": "python3"
  },
  "language_info": {
   "codemirror_mode": {
    "name": "ipython",
    "version": 3
   },
   "file_extension": ".py",
   "mimetype": "text/x-python",
   "name": "python",
   "nbconvert_exporter": "python",
   "pygments_lexer": "ipython3",
   "version": "3.7.9"
  },
  "orig_nbformat": 4,
  "vscode": {
   "interpreter": {
    "hash": "56aea455e691ac98f863ca58aca37ee31c5c13a4edf93477d1a9363b4823949b"
   }
  }
 },
 "nbformat": 4,
 "nbformat_minor": 2
}
