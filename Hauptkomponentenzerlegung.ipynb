{
 "cells": [
  {
   "cell_type": "code",
   "execution_count": 30,
   "metadata": {},
   "outputs": [],
   "source": [
    "import numpy as np\n",
    "import numpy.linalg as la"
   ]
  },
  {
   "cell_type": "code",
   "execution_count": 31,
   "metadata": {},
   "outputs": [],
   "source": [
    "# Definition von X tilde\n",
    "X_tilde = np.array([\n",
    "    [1, 2],\n",
    "    [3, -1],\n",
    "    [5, -2],\n",
    "    [8, -3],\n",
    "    [9, -5]\n",
    "])"
   ]
  },
  {
   "cell_type": "markdown",
   "metadata": {},
   "source": [
    "### Hauptkomponentenzerlegung"
   ]
  },
  {
   "cell_type": "code",
   "execution_count": 35,
   "metadata": {},
   "outputs": [
    {
     "name": "stdout",
     "output_type": "stream",
     "text": [
      "M =\n",
      "[[ 0.8 -0.2 -0.2 -0.2 -0.2]\n",
      " [-0.2  0.8 -0.2 -0.2 -0.2]\n",
      " [-0.2 -0.2  0.8 -0.2 -0.2]\n",
      " [-0.2 -0.2 -0.2  0.8 -0.2]\n",
      " [-0.2 -0.2 -0.2 -0.2  0.8]]\n",
      "\n",
      "Zentrierte Datenmatrix X =\n",
      " [[-4.2  3.8]\n",
      " [-2.2  0.8]\n",
      " [-0.2 -0.2]\n",
      " [ 2.8 -1.2]\n",
      " [ 3.8 -3.2]]\n",
      "\n",
      "Kovarianzmatrix C =\n",
      " [[11.2 -8.3]\n",
      " [-8.3  6.7]]\n",
      "Hauptachsen:\n",
      "v1:[ 0.79424215 -0.60760136], Gerundet: [ 0.7942 -0.6076]\n",
      "v2:[0.60760136 0.79424215], Gerundet: [0.6076 0.7942]\n"
     ]
    }
   ],
   "source": [
    "m = X_tilde.shape[0]\n",
    "M = np.eye(m) - np.ones(m)/m\n",
    "print(f'M =\\n{M}')\n",
    "\n",
    "X = M@X_tilde\n",
    "print(f'\\nZentrierte Datenmatrix X =\\n {X}')\n",
    "\n",
    "C = X.T@X/(m-1)\n",
    "print(f'\\nKovarianzmatrix C =\\n {C}')\n",
    "\n",
    "HA = la.eig(C)[1]\n",
    "print('\\nHauptachsen:')\n",
    "print(f'v1:{HA.T[0]}, Gerundet: {np.around(HA.T[0], 4)}')\n",
    "print(f'v2:{HA.T[1]}, Gerundet: {np.around(HA.T[1], 4)}')"
   ]
  }
 ],
 "metadata": {
  "kernelspec": {
   "display_name": "Python 3.7.9 ('.venv': venv)",
   "language": "python",
   "name": "python3"
  },
  "language_info": {
   "codemirror_mode": {
    "name": "ipython",
    "version": 3
   },
   "file_extension": ".py",
   "mimetype": "text/x-python",
   "name": "python",
   "nbconvert_exporter": "python",
   "pygments_lexer": "ipython3",
   "version": "3.7.9"
  },
  "orig_nbformat": 4,
  "vscode": {
   "interpreter": {
    "hash": "7edcbfe135b51ba319aae3c13f809501930ebc61c1ac695c09ff7a28b5bf6268"
   }
  }
 },
 "nbformat": 4,
 "nbformat_minor": 2
}
