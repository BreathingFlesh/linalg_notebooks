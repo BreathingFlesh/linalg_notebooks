{
 "cells": [
  {
   "cell_type": "code",
   "execution_count": 2,
   "metadata": {},
   "outputs": [],
   "source": [
    "import numpy as np\n",
    "from numpy import linalg as la"
   ]
  },
  {
   "cell_type": "code",
   "execution_count": 3,
   "metadata": {},
   "outputs": [],
   "source": [
    "# Geraden und Ebene definieren, bei Gerade mit Ebene wird mit Gerade A und Ebene C gerechnet\n",
    "\n",
    "# Geraden\n",
    "A = np.array([[5, 2, 0], [1, 0, -3]]) # Startpunkt, Richtung\n",
    "B = np.array([[8, 4, 1], [2, 1, -2]]) # Startpunkt, Richtung\n",
    "\n",
    "# Ebenen\n",
    "C = np.array([[2, 3, 1], [4, 2, 9], [3, 1, 6]]) # Startpunkt, Richtung1, Richtung2"
   ]
  },
  {
   "cell_type": "markdown",
   "metadata": {},
   "source": [
    "### Schnittpunkt zweier Geraden"
   ]
  },
  {
   "cell_type": "code",
   "execution_count": 4,
   "metadata": {},
   "outputs": [
    {
     "name": "stdout",
     "output_type": "stream",
     "text": [
      "Variable für Vektor von A, s: -1.0\n",
      "Variable von Vektor von B, t: -2.0\n",
      "Schnittpunkt: [4. 2. 3.]\n",
      "Schnittwinkel: 32.51251731617002, Gerundet: 32.51\n"
     ]
    }
   ],
   "source": [
    "s, t = np.linalg.solve(\n",
    "    np.array([A[1][0:2], -B[1][0:2]]).T, B[0][0:2]-A[0][0:2]\n",
    ")\n",
    "print(f'Variable für Vektor von A, s: {s}')\n",
    "print(f'Variable von Vektor von B, t: {t}')\n",
    "sA = A[0] + s*A[1]\n",
    "sB = B[0] + t*B[1]\n",
    "if sA.all() == sB.all():\n",
    "    skalar = np.dot(A[1], B[1])\n",
    "    cos_w = skalar/(la.norm(A[1])*la.norm(B[1]))\n",
    "    w = np.arccos(cos_w) * 180 / np.pi\n",
    "    print(f'Schnittpunkt: {sA}')\n",
    "    print(f'Schnittwinkel: {w}, Gerundet: {round(w, 2)}')\n",
    "else:\n",
    "    print('Kein Schnittpunkt.')"
   ]
  },
  {
   "cell_type": "markdown",
   "metadata": {},
   "source": [
    "### Schnittpunkt Gerade und Ebene"
   ]
  },
  {
   "cell_type": "code",
   "execution_count": 5,
   "metadata": {},
   "outputs": [
    {
     "name": "stdout",
     "output_type": "stream",
     "text": [
      "u: -0.8888888888888881, v; -2.5555555555555567, w: 4.1111111111111125\n",
      "Schnittpunkt: [4.11111111 2.         2.66666667]\n"
     ]
    }
   ],
   "source": [
    "u, v, w = np.linalg.solve(\n",
    "    np.array([A[1],-C[1],-C[2]]).T, C[0]-A[0]\n",
    ")\n",
    "print(f'u: {u}, v; {v}, w: {w}')\n",
    "sA = A[0] + u*A[1]\n",
    "sC = C[0] + v*C[1] + w*C[2]\n",
    "if sA.all() == sC.all():\n",
    "    print(f'Schnittpunkt: {sA}')\n",
    "else:\n",
    "    print('Kein Schnittpunkt.')"
   ]
  }
 ],
 "metadata": {
  "kernelspec": {
   "display_name": "Python 3.7.9 ('.venv': venv)",
   "language": "python",
   "name": "python3"
  },
  "language_info": {
   "codemirror_mode": {
    "name": "ipython",
    "version": 3
   },
   "file_extension": ".py",
   "mimetype": "text/x-python",
   "name": "python",
   "nbconvert_exporter": "python",
   "pygments_lexer": "ipython3",
   "version": "3.7.9"
  },
  "orig_nbformat": 4,
  "vscode": {
   "interpreter": {
    "hash": "56aea455e691ac98f863ca58aca37ee31c5c13a4edf93477d1a9363b4823949b"
   }
  }
 },
 "nbformat": 4,
 "nbformat_minor": 2
}
